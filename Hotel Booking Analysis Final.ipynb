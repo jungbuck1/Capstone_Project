{
 "cells": [
  {
   "cell_type": "markdown",
   "id": "164cc71c",
   "metadata": {},
   "source": [
    "# Exploring the dataset"
   ]
  },
  {
   "cell_type": "code",
   "execution_count": 16,
   "id": "c6b1f486",
   "metadata": {
    "scrolled": true
   },
   "outputs": [],
   "source": [
    "# import all necessary libraries for exploration and visualization\n",
    "import pandas as pd\n",
    "import numpy as np\n",
    "import matplotlib.pyplot as plt\n",
    "import helper_functions as vs\n",
    "from time import time\n",
    "from sklearn.ensemble import AdaBoostClassifier\n",
    "from sklearn.ensemble import RandomForestClassifier\n",
    "from sklearn.ensemble import GradientBoostingClassifier\n",
    "\n",
    "%matplotlib inline"
   ]
  },
  {
   "cell_type": "markdown",
   "id": "c7cb91c8",
   "metadata": {},
   "source": [
    "### Load and make a copy of the data"
   ]
  },
  {
   "cell_type": "code",
   "execution_count": 17,
   "id": "8c91958d",
   "metadata": {
    "scrolled": true
   },
   "outputs": [],
   "source": [
    "data = pd.read_csv('hotel_booking.csv')\n",
    "hotel_bookings = data.copy()"
   ]
  },
  {
   "cell_type": "markdown",
   "id": "d8190df6",
   "metadata": {},
   "source": [
    "### View general information of dataset"
   ]
  },
  {
   "cell_type": "code",
   "execution_count": 18,
   "id": "e1472693",
   "metadata": {
    "scrolled": false
   },
   "outputs": [
    {
     "name": "stdout",
     "output_type": "stream",
     "text": [
      "<class 'pandas.core.frame.DataFrame'>\n",
      "RangeIndex: 119390 entries, 0 to 119389\n",
      "Data columns (total 36 columns):\n",
      " #   Column                          Non-Null Count   Dtype  \n",
      "---  ------                          --------------   -----  \n",
      " 0   hotel                           119390 non-null  object \n",
      " 1   is_canceled                     119390 non-null  int64  \n",
      " 2   lead_time                       119390 non-null  int64  \n",
      " 3   arrival_date_year               119390 non-null  int64  \n",
      " 4   arrival_date_month              119390 non-null  object \n",
      " 5   arrival_date_week_number        119390 non-null  int64  \n",
      " 6   arrival_date_day_of_month       119390 non-null  int64  \n",
      " 7   stays_in_weekend_nights         119390 non-null  int64  \n",
      " 8   stays_in_week_nights            119390 non-null  int64  \n",
      " 9   adults                          119390 non-null  int64  \n",
      " 10  children                        119386 non-null  float64\n",
      " 11  babies                          119390 non-null  int64  \n",
      " 12  meal                            119390 non-null  object \n",
      " 13  country                         118902 non-null  object \n",
      " 14  market_segment                  119390 non-null  object \n",
      " 15  distribution_channel            119390 non-null  object \n",
      " 16  is_repeated_guest               119390 non-null  int64  \n",
      " 17  previous_cancellations          119390 non-null  int64  \n",
      " 18  previous_bookings_not_canceled  119390 non-null  int64  \n",
      " 19  reserved_room_type              119390 non-null  object \n",
      " 20  assigned_room_type              119390 non-null  object \n",
      " 21  booking_changes                 119390 non-null  int64  \n",
      " 22  deposit_type                    119390 non-null  object \n",
      " 23  agent                           103050 non-null  float64\n",
      " 24  company                         6797 non-null    float64\n",
      " 25  days_in_waiting_list            119390 non-null  int64  \n",
      " 26  customer_type                   119390 non-null  object \n",
      " 27  adr                             119390 non-null  float64\n",
      " 28  required_car_parking_spaces     119390 non-null  int64  \n",
      " 29  total_of_special_requests       119390 non-null  int64  \n",
      " 30  reservation_status              119390 non-null  object \n",
      " 31  reservation_status_date         119390 non-null  object \n",
      " 32  name                            119390 non-null  object \n",
      " 33  email                           119390 non-null  object \n",
      " 34  phone-number                    119390 non-null  object \n",
      " 35  credit_card                     119390 non-null  object \n",
      "dtypes: float64(4), int64(16), object(16)\n",
      "memory usage: 32.8+ MB\n"
     ]
    }
   ],
   "source": [
    "hotel_bookings.info()"
   ]
  },
  {
   "cell_type": "markdown",
   "id": "9467363d",
   "metadata": {},
   "source": [
    "> We can see that almost all columns have no null entries. Although children, country, agent, and company features all have null values which must be dealt with before supervised learning model is applied to data. "
   ]
  },
  {
   "cell_type": "code",
   "execution_count": 19,
   "id": "93ed6787",
   "metadata": {
    "scrolled": false
   },
   "outputs": [
    {
     "data": {
      "text/plain": [
       "hotel                                  0\n",
       "is_canceled                            0\n",
       "lead_time                              0\n",
       "arrival_date_year                      0\n",
       "arrival_date_month                     0\n",
       "arrival_date_week_number               0\n",
       "arrival_date_day_of_month              0\n",
       "stays_in_weekend_nights                0\n",
       "stays_in_week_nights                   0\n",
       "adults                                 0\n",
       "children                               4\n",
       "babies                                 0\n",
       "meal                                   0\n",
       "country                              488\n",
       "market_segment                         0\n",
       "distribution_channel                   0\n",
       "is_repeated_guest                      0\n",
       "previous_cancellations                 0\n",
       "previous_bookings_not_canceled         0\n",
       "reserved_room_type                     0\n",
       "assigned_room_type                     0\n",
       "booking_changes                        0\n",
       "deposit_type                           0\n",
       "agent                              16340\n",
       "company                           112593\n",
       "days_in_waiting_list                   0\n",
       "customer_type                          0\n",
       "adr                                    0\n",
       "required_car_parking_spaces            0\n",
       "total_of_special_requests              0\n",
       "reservation_status                     0\n",
       "reservation_status_date                0\n",
       "name                                   0\n",
       "email                                  0\n",
       "phone-number                           0\n",
       "credit_card                            0\n",
       "dtype: int64"
      ]
     },
     "execution_count": 19,
     "metadata": {},
     "output_type": "execute_result"
    }
   ],
   "source": [
    "hotel_bookings.isna().sum()"
   ]
  },
  {
   "cell_type": "markdown",
   "id": "e44b909b",
   "metadata": {},
   "source": [
    ">This shows the number of null values for features. Again, these null values must be dealt with before developing any predictive algorithms."
   ]
  },
  {
   "cell_type": "markdown",
   "id": "c22f9939",
   "metadata": {},
   "source": [
    "### Looking at description of numerical information"
   ]
  },
  {
   "cell_type": "code",
   "execution_count": 28,
   "id": "ebb8e236",
   "metadata": {
    "scrolled": false
   },
   "outputs": [
    {
     "data": {
      "text/html": [
       "<div>\n",
       "<style scoped>\n",
       "    .dataframe tbody tr th:only-of-type {\n",
       "        vertical-align: middle;\n",
       "    }\n",
       "\n",
       "    .dataframe tbody tr th {\n",
       "        vertical-align: top;\n",
       "    }\n",
       "\n",
       "    .dataframe thead th {\n",
       "        text-align: right;\n",
       "    }\n",
       "</style>\n",
       "<table border=\"1\" class=\"dataframe\">\n",
       "  <thead>\n",
       "    <tr style=\"text-align: right;\">\n",
       "      <th></th>\n",
       "      <th>is_canceled</th>\n",
       "      <th>lead_time</th>\n",
       "      <th>arrival_date_year</th>\n",
       "      <th>arrival_date_week_number</th>\n",
       "      <th>arrival_date_day_of_month</th>\n",
       "      <th>stays_in_weekend_nights</th>\n",
       "      <th>stays_in_week_nights</th>\n",
       "      <th>adults</th>\n",
       "      <th>children</th>\n",
       "      <th>babies</th>\n",
       "      <th>...</th>\n",
       "      <th>previous_cancellations</th>\n",
       "      <th>previous_bookings_not_canceled</th>\n",
       "      <th>booking_changes</th>\n",
       "      <th>agent</th>\n",
       "      <th>company</th>\n",
       "      <th>days_in_waiting_list</th>\n",
       "      <th>adr</th>\n",
       "      <th>required_car_parking_spaces</th>\n",
       "      <th>total_of_special_requests</th>\n",
       "      <th>stay_length</th>\n",
       "    </tr>\n",
       "  </thead>\n",
       "  <tbody>\n",
       "    <tr>\n",
       "      <th>count</th>\n",
       "      <td>119390.000000</td>\n",
       "      <td>119390.000000</td>\n",
       "      <td>119390.000000</td>\n",
       "      <td>119390.000000</td>\n",
       "      <td>119390.000000</td>\n",
       "      <td>119390.000000</td>\n",
       "      <td>119390.000000</td>\n",
       "      <td>119390.000000</td>\n",
       "      <td>119386.000000</td>\n",
       "      <td>119390.000000</td>\n",
       "      <td>...</td>\n",
       "      <td>119390.000000</td>\n",
       "      <td>119390.000000</td>\n",
       "      <td>119390.000000</td>\n",
       "      <td>103050.000000</td>\n",
       "      <td>6797.000000</td>\n",
       "      <td>119390.000000</td>\n",
       "      <td>119390.000000</td>\n",
       "      <td>119390.000000</td>\n",
       "      <td>119390.000000</td>\n",
       "      <td>119390.000000</td>\n",
       "    </tr>\n",
       "    <tr>\n",
       "      <th>mean</th>\n",
       "      <td>0.370416</td>\n",
       "      <td>104.011416</td>\n",
       "      <td>2016.156554</td>\n",
       "      <td>27.165173</td>\n",
       "      <td>15.798241</td>\n",
       "      <td>0.927599</td>\n",
       "      <td>2.500302</td>\n",
       "      <td>1.856403</td>\n",
       "      <td>0.103890</td>\n",
       "      <td>0.007949</td>\n",
       "      <td>...</td>\n",
       "      <td>0.087118</td>\n",
       "      <td>0.137097</td>\n",
       "      <td>0.221124</td>\n",
       "      <td>86.693382</td>\n",
       "      <td>189.266735</td>\n",
       "      <td>2.321149</td>\n",
       "      <td>101.831122</td>\n",
       "      <td>0.062518</td>\n",
       "      <td>0.571363</td>\n",
       "      <td>3.427900</td>\n",
       "    </tr>\n",
       "    <tr>\n",
       "      <th>std</th>\n",
       "      <td>0.482918</td>\n",
       "      <td>106.863097</td>\n",
       "      <td>0.707476</td>\n",
       "      <td>13.605138</td>\n",
       "      <td>8.780829</td>\n",
       "      <td>0.998613</td>\n",
       "      <td>1.908286</td>\n",
       "      <td>0.579261</td>\n",
       "      <td>0.398561</td>\n",
       "      <td>0.097436</td>\n",
       "      <td>...</td>\n",
       "      <td>0.844336</td>\n",
       "      <td>1.497437</td>\n",
       "      <td>0.652306</td>\n",
       "      <td>110.774548</td>\n",
       "      <td>131.655015</td>\n",
       "      <td>17.594721</td>\n",
       "      <td>50.535790</td>\n",
       "      <td>0.245291</td>\n",
       "      <td>0.792798</td>\n",
       "      <td>2.557439</td>\n",
       "    </tr>\n",
       "    <tr>\n",
       "      <th>min</th>\n",
       "      <td>0.000000</td>\n",
       "      <td>0.000000</td>\n",
       "      <td>2015.000000</td>\n",
       "      <td>1.000000</td>\n",
       "      <td>1.000000</td>\n",
       "      <td>0.000000</td>\n",
       "      <td>0.000000</td>\n",
       "      <td>0.000000</td>\n",
       "      <td>0.000000</td>\n",
       "      <td>0.000000</td>\n",
       "      <td>...</td>\n",
       "      <td>0.000000</td>\n",
       "      <td>0.000000</td>\n",
       "      <td>0.000000</td>\n",
       "      <td>1.000000</td>\n",
       "      <td>6.000000</td>\n",
       "      <td>0.000000</td>\n",
       "      <td>-6.380000</td>\n",
       "      <td>0.000000</td>\n",
       "      <td>0.000000</td>\n",
       "      <td>0.000000</td>\n",
       "    </tr>\n",
       "    <tr>\n",
       "      <th>25%</th>\n",
       "      <td>0.000000</td>\n",
       "      <td>18.000000</td>\n",
       "      <td>2016.000000</td>\n",
       "      <td>16.000000</td>\n",
       "      <td>8.000000</td>\n",
       "      <td>0.000000</td>\n",
       "      <td>1.000000</td>\n",
       "      <td>2.000000</td>\n",
       "      <td>0.000000</td>\n",
       "      <td>0.000000</td>\n",
       "      <td>...</td>\n",
       "      <td>0.000000</td>\n",
       "      <td>0.000000</td>\n",
       "      <td>0.000000</td>\n",
       "      <td>9.000000</td>\n",
       "      <td>62.000000</td>\n",
       "      <td>0.000000</td>\n",
       "      <td>69.290000</td>\n",
       "      <td>0.000000</td>\n",
       "      <td>0.000000</td>\n",
       "      <td>2.000000</td>\n",
       "    </tr>\n",
       "    <tr>\n",
       "      <th>50%</th>\n",
       "      <td>0.000000</td>\n",
       "      <td>69.000000</td>\n",
       "      <td>2016.000000</td>\n",
       "      <td>28.000000</td>\n",
       "      <td>16.000000</td>\n",
       "      <td>1.000000</td>\n",
       "      <td>2.000000</td>\n",
       "      <td>2.000000</td>\n",
       "      <td>0.000000</td>\n",
       "      <td>0.000000</td>\n",
       "      <td>...</td>\n",
       "      <td>0.000000</td>\n",
       "      <td>0.000000</td>\n",
       "      <td>0.000000</td>\n",
       "      <td>14.000000</td>\n",
       "      <td>179.000000</td>\n",
       "      <td>0.000000</td>\n",
       "      <td>94.575000</td>\n",
       "      <td>0.000000</td>\n",
       "      <td>0.000000</td>\n",
       "      <td>3.000000</td>\n",
       "    </tr>\n",
       "    <tr>\n",
       "      <th>75%</th>\n",
       "      <td>1.000000</td>\n",
       "      <td>160.000000</td>\n",
       "      <td>2017.000000</td>\n",
       "      <td>38.000000</td>\n",
       "      <td>23.000000</td>\n",
       "      <td>2.000000</td>\n",
       "      <td>3.000000</td>\n",
       "      <td>2.000000</td>\n",
       "      <td>0.000000</td>\n",
       "      <td>0.000000</td>\n",
       "      <td>...</td>\n",
       "      <td>0.000000</td>\n",
       "      <td>0.000000</td>\n",
       "      <td>0.000000</td>\n",
       "      <td>229.000000</td>\n",
       "      <td>270.000000</td>\n",
       "      <td>0.000000</td>\n",
       "      <td>126.000000</td>\n",
       "      <td>0.000000</td>\n",
       "      <td>1.000000</td>\n",
       "      <td>4.000000</td>\n",
       "    </tr>\n",
       "    <tr>\n",
       "      <th>max</th>\n",
       "      <td>1.000000</td>\n",
       "      <td>737.000000</td>\n",
       "      <td>2017.000000</td>\n",
       "      <td>53.000000</td>\n",
       "      <td>31.000000</td>\n",
       "      <td>19.000000</td>\n",
       "      <td>50.000000</td>\n",
       "      <td>55.000000</td>\n",
       "      <td>10.000000</td>\n",
       "      <td>10.000000</td>\n",
       "      <td>...</td>\n",
       "      <td>26.000000</td>\n",
       "      <td>72.000000</td>\n",
       "      <td>21.000000</td>\n",
       "      <td>535.000000</td>\n",
       "      <td>543.000000</td>\n",
       "      <td>391.000000</td>\n",
       "      <td>5400.000000</td>\n",
       "      <td>8.000000</td>\n",
       "      <td>5.000000</td>\n",
       "      <td>69.000000</td>\n",
       "    </tr>\n",
       "  </tbody>\n",
       "</table>\n",
       "<p>8 rows × 21 columns</p>\n",
       "</div>"
      ],
      "text/plain": [
       "         is_canceled      lead_time  arrival_date_year  \\\n",
       "count  119390.000000  119390.000000      119390.000000   \n",
       "mean        0.370416     104.011416        2016.156554   \n",
       "std         0.482918     106.863097           0.707476   \n",
       "min         0.000000       0.000000        2015.000000   \n",
       "25%         0.000000      18.000000        2016.000000   \n",
       "50%         0.000000      69.000000        2016.000000   \n",
       "75%         1.000000     160.000000        2017.000000   \n",
       "max         1.000000     737.000000        2017.000000   \n",
       "\n",
       "       arrival_date_week_number  arrival_date_day_of_month  \\\n",
       "count             119390.000000              119390.000000   \n",
       "mean                  27.165173                  15.798241   \n",
       "std                   13.605138                   8.780829   \n",
       "min                    1.000000                   1.000000   \n",
       "25%                   16.000000                   8.000000   \n",
       "50%                   28.000000                  16.000000   \n",
       "75%                   38.000000                  23.000000   \n",
       "max                   53.000000                  31.000000   \n",
       "\n",
       "       stays_in_weekend_nights  stays_in_week_nights         adults  \\\n",
       "count            119390.000000         119390.000000  119390.000000   \n",
       "mean                  0.927599              2.500302       1.856403   \n",
       "std                   0.998613              1.908286       0.579261   \n",
       "min                   0.000000              0.000000       0.000000   \n",
       "25%                   0.000000              1.000000       2.000000   \n",
       "50%                   1.000000              2.000000       2.000000   \n",
       "75%                   2.000000              3.000000       2.000000   \n",
       "max                  19.000000             50.000000      55.000000   \n",
       "\n",
       "            children         babies  ...  previous_cancellations  \\\n",
       "count  119386.000000  119390.000000  ...           119390.000000   \n",
       "mean        0.103890       0.007949  ...                0.087118   \n",
       "std         0.398561       0.097436  ...                0.844336   \n",
       "min         0.000000       0.000000  ...                0.000000   \n",
       "25%         0.000000       0.000000  ...                0.000000   \n",
       "50%         0.000000       0.000000  ...                0.000000   \n",
       "75%         0.000000       0.000000  ...                0.000000   \n",
       "max        10.000000      10.000000  ...               26.000000   \n",
       "\n",
       "       previous_bookings_not_canceled  booking_changes          agent  \\\n",
       "count                   119390.000000    119390.000000  103050.000000   \n",
       "mean                         0.137097         0.221124      86.693382   \n",
       "std                          1.497437         0.652306     110.774548   \n",
       "min                          0.000000         0.000000       1.000000   \n",
       "25%                          0.000000         0.000000       9.000000   \n",
       "50%                          0.000000         0.000000      14.000000   \n",
       "75%                          0.000000         0.000000     229.000000   \n",
       "max                         72.000000        21.000000     535.000000   \n",
       "\n",
       "           company  days_in_waiting_list            adr  \\\n",
       "count  6797.000000         119390.000000  119390.000000   \n",
       "mean    189.266735              2.321149     101.831122   \n",
       "std     131.655015             17.594721      50.535790   \n",
       "min       6.000000              0.000000      -6.380000   \n",
       "25%      62.000000              0.000000      69.290000   \n",
       "50%     179.000000              0.000000      94.575000   \n",
       "75%     270.000000              0.000000     126.000000   \n",
       "max     543.000000            391.000000    5400.000000   \n",
       "\n",
       "       required_car_parking_spaces  total_of_special_requests    stay_length  \n",
       "count                119390.000000              119390.000000  119390.000000  \n",
       "mean                      0.062518                   0.571363       3.427900  \n",
       "std                       0.245291                   0.792798       2.557439  \n",
       "min                       0.000000                   0.000000       0.000000  \n",
       "25%                       0.000000                   0.000000       2.000000  \n",
       "50%                       0.000000                   0.000000       3.000000  \n",
       "75%                       0.000000                   1.000000       4.000000  \n",
       "max                       8.000000                   5.000000      69.000000  \n",
       "\n",
       "[8 rows x 21 columns]"
      ]
     },
     "execution_count": 28,
     "metadata": {},
     "output_type": "execute_result"
    }
   ],
   "source": [
    "hotel_bookings.describe()"
   ]
  },
  {
   "cell_type": "markdown",
   "id": "dbfcb28f",
   "metadata": {},
   "source": [
    ">This gives us some interesting information on numerical data. Some features to make note of: \\\n",
    "    - is_repeated_guest may be worth looking at further (binary classification) \\\n",
    "    - previous_bookings_not_canceled, booking_changes may be worth further investigation \\\n",
    "    - agent and company features are regarded as numerical in this table, but are more aptly described as categorical using numbers \\\n",
    "    - adr has a negative value for minimum (may need to be addressed)"
   ]
  },
  {
   "cell_type": "markdown",
   "id": "7abdf7e7",
   "metadata": {},
   "source": [
    "### Looking at guest nationalities for bookings"
   ]
  },
  {
   "cell_type": "code",
   "execution_count": 21,
   "id": "973997cc",
   "metadata": {
    "scrolled": true
   },
   "outputs": [
    {
     "data": {
      "text/plain": [
       "country\n",
       "PRT    48590\n",
       "GBR    12129\n",
       "FRA    10415\n",
       "ESP     8568\n",
       "DEU     7287\n",
       "ITA     3766\n",
       "IRL     3375\n",
       "BEL     2342\n",
       "BRA     2224\n",
       "NLD     2104\n",
       "Name: country, dtype: int64"
      ]
     },
     "execution_count": 21,
     "metadata": {},
     "output_type": "execute_result"
    }
   ],
   "source": [
    "# return the 10 largest counts for country\n",
    "hotel_bookings.groupby('country').country.count().nlargest(10)"
   ]
  },
  {
   "cell_type": "code",
   "execution_count": 22,
   "id": "6b7821f6",
   "metadata": {
    "scrolled": true
   },
   "outputs": [
    {
     "data": {
      "text/plain": [
       "country\n",
       "PRT    0.406986\n",
       "GBR    0.101591\n",
       "FRA    0.087235\n",
       "ESP    0.071765\n",
       "DEU    0.061035\n",
       "ITA    0.031544\n",
       "IRL    0.028269\n",
       "BEL    0.019616\n",
       "BRA    0.018628\n",
       "NLD    0.017623\n",
       "Name: country, dtype: float64"
      ]
     },
     "execution_count": 22,
     "metadata": {},
     "output_type": "execute_result"
    }
   ],
   "source": [
    "# find the percentage each nationality makes up of the whole\n",
    "hotel_bookings.groupby('country').country.count().nlargest(10) / hotel_bookings.shape[0]"
   ]
  },
  {
   "cell_type": "markdown",
   "id": "fa40cb2d",
   "metadata": {},
   "source": [
    "> We can see that guests from Portugal make over 40% of the bookings in our hotel dataset. This is logical due to the location we are given for the hotels. The hotels are located in the Algarve region in Portugal and in the city of Lisbon. This feature will need to be dropped because it is disproportionately distributed and is a consequence of the hotel location rather than a valid predictor of cancellations."
   ]
  },
  {
   "cell_type": "markdown",
   "id": "5478285d",
   "metadata": {},
   "source": [
    "# Exploring null values"
   ]
  },
  {
   "cell_type": "markdown",
   "id": "e487a41f",
   "metadata": {},
   "source": [
    "### Looking at values for agent and company features"
   ]
  },
  {
   "cell_type": "code",
   "execution_count": 25,
   "id": "5ff5ddd4",
   "metadata": {
    "scrolled": true
   },
   "outputs": [
    {
     "data": {
      "text/html": [
       "<div>\n",
       "<style scoped>\n",
       "    .dataframe tbody tr th:only-of-type {\n",
       "        vertical-align: middle;\n",
       "    }\n",
       "\n",
       "    .dataframe tbody tr th {\n",
       "        vertical-align: top;\n",
       "    }\n",
       "\n",
       "    .dataframe thead th {\n",
       "        text-align: right;\n",
       "    }\n",
       "</style>\n",
       "<table border=\"1\" class=\"dataframe\">\n",
       "  <thead>\n",
       "    <tr style=\"text-align: right;\">\n",
       "      <th></th>\n",
       "      <th>agent</th>\n",
       "      <th>company</th>\n",
       "    </tr>\n",
       "  </thead>\n",
       "  <tbody>\n",
       "    <tr>\n",
       "      <th>33116</th>\n",
       "      <td>171.0</td>\n",
       "      <td>NaN</td>\n",
       "    </tr>\n",
       "    <tr>\n",
       "      <th>26376</th>\n",
       "      <td>241.0</td>\n",
       "      <td>NaN</td>\n",
       "    </tr>\n",
       "    <tr>\n",
       "      <th>37733</th>\n",
       "      <td>240.0</td>\n",
       "      <td>NaN</td>\n",
       "    </tr>\n",
       "    <tr>\n",
       "      <th>8250</th>\n",
       "      <td>240.0</td>\n",
       "      <td>NaN</td>\n",
       "    </tr>\n",
       "    <tr>\n",
       "      <th>99582</th>\n",
       "      <td>132.0</td>\n",
       "      <td>NaN</td>\n",
       "    </tr>\n",
       "    <tr>\n",
       "      <th>45701</th>\n",
       "      <td>29.0</td>\n",
       "      <td>NaN</td>\n",
       "    </tr>\n",
       "    <tr>\n",
       "      <th>1436</th>\n",
       "      <td>240.0</td>\n",
       "      <td>NaN</td>\n",
       "    </tr>\n",
       "    <tr>\n",
       "      <th>90319</th>\n",
       "      <td>14.0</td>\n",
       "      <td>NaN</td>\n",
       "    </tr>\n",
       "    <tr>\n",
       "      <th>104691</th>\n",
       "      <td>9.0</td>\n",
       "      <td>NaN</td>\n",
       "    </tr>\n",
       "    <tr>\n",
       "      <th>38862</th>\n",
       "      <td>240.0</td>\n",
       "      <td>NaN</td>\n",
       "    </tr>\n",
       "  </tbody>\n",
       "</table>\n",
       "</div>"
      ],
      "text/plain": [
       "        agent  company\n",
       "33116   171.0      NaN\n",
       "26376   241.0      NaN\n",
       "37733   240.0      NaN\n",
       "8250    240.0      NaN\n",
       "99582   132.0      NaN\n",
       "45701    29.0      NaN\n",
       "1436    240.0      NaN\n",
       "90319    14.0      NaN\n",
       "104691    9.0      NaN\n",
       "38862   240.0      NaN"
      ]
     },
     "execution_count": 25,
     "metadata": {},
     "output_type": "execute_result"
    }
   ],
   "source": [
    "hotel_bookings[['agent', 'company']].sample(10)"
   ]
  },
  {
   "cell_type": "code",
   "execution_count": 26,
   "id": "4733d3e2",
   "metadata": {
    "scrolled": false
   },
   "outputs": [
    {
     "data": {
      "text/plain": [
       "array([ nan, 110., 113., 270., 178., 240., 154., 144., 307., 268.,  59.,\n",
       "       204., 312., 318.,  94., 174., 274., 195., 223., 317., 281., 118.,\n",
       "        53., 286.,  12.,  47., 324., 342., 373., 371., 383.,  86.,  82.,\n",
       "       218.,  88.,  31., 397., 392., 405., 331., 367.,  20.,  83., 416.,\n",
       "        51., 395., 102.,  34.,  84., 360., 394., 457., 382., 461., 478.,\n",
       "       386., 112., 486., 421.,   9., 308., 135., 224., 504., 269., 356.,\n",
       "       498., 390., 513., 203., 263., 477., 521., 169., 515., 445., 337.,\n",
       "       251., 428., 292., 388., 130., 250., 355., 254., 543., 531., 528.,\n",
       "        62., 120.,  42.,  81., 116., 530., 103.,  39.,  16.,  92.,  61.,\n",
       "       501., 165., 291., 290.,  43., 325., 192., 108., 200., 465., 287.,\n",
       "       297., 490., 482., 207., 282., 437., 225., 329., 272.,  28.,  77.,\n",
       "       338.,  72., 246., 319., 146., 159., 380., 323., 511., 407., 278.,\n",
       "        80., 403., 399.,  14., 137., 343., 346., 347., 349., 289., 351.,\n",
       "       353.,  54.,  99., 358., 361., 362., 366., 372., 365., 277., 109.,\n",
       "       377., 379.,  22., 378., 330., 364., 401., 232., 255., 384., 167.,\n",
       "       212., 514., 391., 400., 376., 402., 396., 302., 398.,   6., 370.,\n",
       "       369., 409., 168., 104., 408., 413., 148.,  10., 333., 419., 415.,\n",
       "       424., 425., 423., 422., 435., 439., 442., 448., 443., 454., 444.,\n",
       "        52., 459., 458., 456., 460., 447., 470., 466., 484., 184., 485.,\n",
       "        32., 487., 491., 494., 193., 516., 496., 499.,  29.,  78., 520.,\n",
       "       507., 506., 512., 126.,  64., 242., 518., 523., 539., 534., 436.,\n",
       "       525., 541.,  40., 455., 410.,  45.,  38.,  49.,  48.,  67.,  68.,\n",
       "        65.,  91.,  37.,   8., 179., 209., 219., 221., 227., 153., 186.,\n",
       "       253., 202., 216., 275., 233., 280., 309., 321.,  93., 316.,  85.,\n",
       "       107., 350., 279., 334., 348., 150.,  73., 385., 418., 197., 450.,\n",
       "       452., 115.,  46.,  76.,  96., 100., 105., 101., 122.,  11., 139.,\n",
       "       142., 127., 143., 140., 149., 163., 160., 180., 238., 183., 222.,\n",
       "       185., 217., 215., 213., 237., 230., 234.,  35., 245., 158., 258.,\n",
       "       259., 260., 411., 257., 271.,  18., 106., 210., 273.,  71., 284.,\n",
       "       301., 305., 293., 264., 311., 304., 313., 288., 320., 314., 332.,\n",
       "       341., 352., 243., 368., 393., 132., 220., 412., 420., 426., 417.,\n",
       "       429., 433., 446., 357., 479., 483., 489., 229., 481., 497., 451.,\n",
       "       492.])"
      ]
     },
     "execution_count": 26,
     "metadata": {},
     "output_type": "execute_result"
    }
   ],
   "source": [
    "hotel_bookings['company'].unique()"
   ]
  },
  {
   "cell_type": "code",
   "execution_count": 27,
   "id": "d8abc448",
   "metadata": {
    "scrolled": false
   },
   "outputs": [
    {
     "data": {
      "text/plain": [
       "array([ nan, 304., 240., 303.,  15., 241.,   8., 250., 115.,   5., 175.,\n",
       "       134., 156., 243., 242.,   3., 105.,  40., 147., 306., 184.,  96.,\n",
       "         2., 127.,  95., 146.,   9., 177.,   6., 143., 244., 149., 167.,\n",
       "       300., 171., 305.,  67., 196., 152., 142., 261., 104.,  36.,  26.,\n",
       "        29., 258., 110.,  71., 181.,  88., 251., 275.,  69., 248., 208.,\n",
       "       256., 314., 126., 281., 273., 253., 185., 330., 334., 328., 326.,\n",
       "       321., 324., 313.,  38., 155.,  68., 335., 308., 332.,  94., 348.,\n",
       "       310., 339., 375.,  66., 327., 387., 298.,  91., 245., 385., 257.,\n",
       "       393., 168., 405., 249., 315.,  75., 128., 307.,  11., 436.,   1.,\n",
       "       201., 183., 223., 368., 336., 291., 464., 411., 481.,  10., 154.,\n",
       "       468., 410., 390., 440., 495., 492., 493., 434.,  57., 531., 420.,\n",
       "       483., 526., 472., 429.,  16., 446.,  34.,  78., 139., 252., 270.,\n",
       "        47., 114., 301., 193., 182., 135., 350., 195., 352., 355., 159.,\n",
       "       363., 384., 360., 331., 367.,  64., 406., 163., 414., 333., 427.,\n",
       "       431., 430., 426., 438., 433., 418., 441., 282., 432.,  72., 450.,\n",
       "       180., 454., 455.,  59., 451., 254., 358., 469., 165., 467., 510.,\n",
       "       337., 476., 502., 527., 479., 508., 535., 302., 497., 187.,  13.,\n",
       "         7.,  27.,  14.,  22.,  17.,  28.,  42.,  20.,  19.,  45.,  37.,\n",
       "        61.,  39.,  21.,  24.,  41.,  50.,  30.,  54.,  52.,  12.,  44.,\n",
       "        31.,  83.,  32.,  63.,  60.,  55.,  56.,  89.,  87., 118.,  86.,\n",
       "        85., 210., 214., 129., 179., 138., 174., 170., 153.,  93., 151.,\n",
       "       119.,  35., 173.,  58.,  53., 133.,  79., 235., 192., 191., 236.,\n",
       "       162., 215., 157., 287., 132., 234.,  98.,  77., 103., 107., 262.,\n",
       "       220., 121., 205., 378.,  23., 296., 290., 229.,  33., 286., 276.,\n",
       "       425., 484., 323., 403., 219., 394., 509., 111., 423.,   4.,  70.,\n",
       "        82.,  81.,  74.,  92.,  99.,  90., 112., 117., 106., 148., 158.,\n",
       "       144., 211., 213., 216., 232., 150., 267., 227., 247., 278., 280.,\n",
       "       285., 289., 269., 295., 265., 288., 122., 294., 325., 341., 344.,\n",
       "       346., 359., 283., 364., 370., 371.,  25., 141., 391., 397., 416.,\n",
       "       404., 299., 197.,  73., 354., 444., 408., 461., 388., 453., 459.,\n",
       "       474., 475., 480., 449.])"
      ]
     },
     "execution_count": 27,
     "metadata": {},
     "output_type": "execute_result"
    }
   ],
   "source": [
    "hotel_bookings['agent'].unique()"
   ]
  },
  {
   "cell_type": "markdown",
   "id": "3c459d3a",
   "metadata": {},
   "source": [
    "> All names of agents and companies have been converted to a numerical IDs to protect their identity. My proposition is to convert these categories into a binary classification. Bookings with and agent will be represented by a 1 and without an agent with a 0. The same binary classification will apply to the company feature. "
   ]
  },
  {
   "cell_type": "code",
   "execution_count": 29,
   "id": "2577eb26",
   "metadata": {
    "scrolled": true
   },
   "outputs": [
    {
     "data": {
      "text/html": [
       "<div>\n",
       "<style scoped>\n",
       "    .dataframe tbody tr th:only-of-type {\n",
       "        vertical-align: middle;\n",
       "    }\n",
       "\n",
       "    .dataframe tbody tr th {\n",
       "        vertical-align: top;\n",
       "    }\n",
       "\n",
       "    .dataframe thead th {\n",
       "        text-align: right;\n",
       "    }\n",
       "</style>\n",
       "<table border=\"1\" class=\"dataframe\">\n",
       "  <thead>\n",
       "    <tr style=\"text-align: right;\">\n",
       "      <th></th>\n",
       "      <th>hotel</th>\n",
       "      <th>is_canceled</th>\n",
       "      <th>lead_time</th>\n",
       "      <th>arrival_date_year</th>\n",
       "      <th>arrival_date_month</th>\n",
       "      <th>arrival_date_week_number</th>\n",
       "      <th>arrival_date_day_of_month</th>\n",
       "      <th>stays_in_weekend_nights</th>\n",
       "      <th>stays_in_week_nights</th>\n",
       "      <th>adults</th>\n",
       "      <th>...</th>\n",
       "      <th>adr</th>\n",
       "      <th>required_car_parking_spaces</th>\n",
       "      <th>total_of_special_requests</th>\n",
       "      <th>reservation_status</th>\n",
       "      <th>reservation_status_date</th>\n",
       "      <th>name</th>\n",
       "      <th>email</th>\n",
       "      <th>phone-number</th>\n",
       "      <th>credit_card</th>\n",
       "      <th>stay_length</th>\n",
       "    </tr>\n",
       "  </thead>\n",
       "  <tbody>\n",
       "    <tr>\n",
       "      <th>14969</th>\n",
       "      <td>Resort Hotel</td>\n",
       "      <td>0</td>\n",
       "      <td>195</td>\n",
       "      <td>2017</td>\n",
       "      <td>March</td>\n",
       "      <td>10</td>\n",
       "      <td>5</td>\n",
       "      <td>4</td>\n",
       "      <td>6</td>\n",
       "      <td>2</td>\n",
       "      <td>...</td>\n",
       "      <td>-6.38</td>\n",
       "      <td>0</td>\n",
       "      <td>0</td>\n",
       "      <td>Check-Out</td>\n",
       "      <td>2017-03-15</td>\n",
       "      <td>Chase Santos</td>\n",
       "      <td>Chase_Santos@outlook.com</td>\n",
       "      <td>472-408-0661</td>\n",
       "      <td>************9176</td>\n",
       "      <td>10</td>\n",
       "    </tr>\n",
       "  </tbody>\n",
       "</table>\n",
       "<p>1 rows × 37 columns</p>\n",
       "</div>"
      ],
      "text/plain": [
       "              hotel  is_canceled  lead_time  arrival_date_year  \\\n",
       "14969  Resort Hotel            0        195               2017   \n",
       "\n",
       "      arrival_date_month  arrival_date_week_number  arrival_date_day_of_month  \\\n",
       "14969              March                        10                          5   \n",
       "\n",
       "       stays_in_weekend_nights  stays_in_week_nights  adults  ...   adr  \\\n",
       "14969                        4                     6       2  ... -6.38   \n",
       "\n",
       "       required_car_parking_spaces total_of_special_requests  \\\n",
       "14969                            0                         0   \n",
       "\n",
       "      reservation_status reservation_status_date          name  \\\n",
       "14969          Check-Out              2017-03-15  Chase Santos   \n",
       "\n",
       "                          email  phone-number       credit_card stay_length  \n",
       "14969  Chase_Santos@outlook.com  472-408-0661  ************9176          10  \n",
       "\n",
       "[1 rows x 37 columns]"
      ]
     },
     "execution_count": 29,
     "metadata": {},
     "output_type": "execute_result"
    }
   ],
   "source": [
    "hotel_bookings[hotel_bookings.adr < 0]"
   ]
  },
  {
   "cell_type": "markdown",
   "id": "c9deafd0",
   "metadata": {},
   "source": [
    "> It appears this one value of adr < 0 is a single outlier which won't affect our analysis. "
   ]
  },
  {
   "cell_type": "markdown",
   "id": "38b050dc",
   "metadata": {},
   "source": [
    "## Create arrival_date column"
   ]
  },
  {
   "cell_type": "markdown",
   "id": "d1751ed3",
   "metadata": {},
   "source": [
    "> This datetime object can be used to make calculations between dates (i.e. reservation_status_date)"
   ]
  },
  {
   "cell_type": "markdown",
   "id": "627d7125",
   "metadata": {},
   "source": [
    "### Convert month name to month number using dictionary of month conversions"
   ]
  },
  {
   "cell_type": "code",
   "execution_count": 30,
   "id": "047ce36c",
   "metadata": {
    "scrolled": true
   },
   "outputs": [],
   "source": [
    "month_conv = {\"January\":1, \"February\":2, \"March\":3, \n",
    "              \"April\":4, \"May\":5, \"June\":6, \n",
    "              \"July\":7, \"August\":8, \"September\":9,\n",
    "              \"October\":10, \"November\":11, \"December\":12}\n",
    "hotel_bookings[\"arrival_date_month_conv\"] = hotel_bookings.arrival_date_month.apply(lambda x: month_conv[x])"
   ]
  },
  {
   "cell_type": "code",
   "execution_count": 31,
   "id": "f1b692cf",
   "metadata": {
    "scrolled": true
   },
   "outputs": [
    {
     "data": {
      "text/html": [
       "<div>\n",
       "<style scoped>\n",
       "    .dataframe tbody tr th:only-of-type {\n",
       "        vertical-align: middle;\n",
       "    }\n",
       "\n",
       "    .dataframe tbody tr th {\n",
       "        vertical-align: top;\n",
       "    }\n",
       "\n",
       "    .dataframe thead th {\n",
       "        text-align: right;\n",
       "    }\n",
       "</style>\n",
       "<table border=\"1\" class=\"dataframe\">\n",
       "  <thead>\n",
       "    <tr style=\"text-align: right;\">\n",
       "      <th></th>\n",
       "      <th>arrival_date_month</th>\n",
       "      <th>arrival_date_month_conv</th>\n",
       "    </tr>\n",
       "  </thead>\n",
       "  <tbody>\n",
       "    <tr>\n",
       "      <th>21003</th>\n",
       "      <td>February</td>\n",
       "      <td>2</td>\n",
       "    </tr>\n",
       "    <tr>\n",
       "      <th>71128</th>\n",
       "      <td>June</td>\n",
       "      <td>6</td>\n",
       "    </tr>\n",
       "    <tr>\n",
       "      <th>85423</th>\n",
       "      <td>March</td>\n",
       "      <td>3</td>\n",
       "    </tr>\n",
       "    <tr>\n",
       "      <th>34350</th>\n",
       "      <td>March</td>\n",
       "      <td>3</td>\n",
       "    </tr>\n",
       "    <tr>\n",
       "      <th>15414</th>\n",
       "      <td>August</td>\n",
       "      <td>8</td>\n",
       "    </tr>\n",
       "    <tr>\n",
       "      <th>14160</th>\n",
       "      <td>April</td>\n",
       "      <td>4</td>\n",
       "    </tr>\n",
       "    <tr>\n",
       "      <th>90608</th>\n",
       "      <td>June</td>\n",
       "      <td>6</td>\n",
       "    </tr>\n",
       "    <tr>\n",
       "      <th>20041</th>\n",
       "      <td>January</td>\n",
       "      <td>1</td>\n",
       "    </tr>\n",
       "    <tr>\n",
       "      <th>116258</th>\n",
       "      <td>July</td>\n",
       "      <td>7</td>\n",
       "    </tr>\n",
       "    <tr>\n",
       "      <th>6288</th>\n",
       "      <td>June</td>\n",
       "      <td>6</td>\n",
       "    </tr>\n",
       "  </tbody>\n",
       "</table>\n",
       "</div>"
      ],
      "text/plain": [
       "       arrival_date_month  arrival_date_month_conv\n",
       "21003            February                        2\n",
       "71128                June                        6\n",
       "85423               March                        3\n",
       "34350               March                        3\n",
       "15414              August                        8\n",
       "14160               April                        4\n",
       "90608                June                        6\n",
       "20041             January                        1\n",
       "116258               July                        7\n",
       "6288                 June                        6"
      ]
     },
     "execution_count": 31,
     "metadata": {},
     "output_type": "execute_result"
    }
   ],
   "source": [
    "hotel_bookings[[\"arrival_date_month\", \"arrival_date_month_conv\"]].sample(10)"
   ]
  },
  {
   "cell_type": "markdown",
   "id": "afa8da4e",
   "metadata": {},
   "source": [
    "### Create datetime column by combing arrival_date_day_of_month, arrival_date_month_conv, and arrival_date_year"
   ]
  },
  {
   "cell_type": "code",
   "execution_count": 33,
   "id": "d7a258d5",
   "metadata": {
    "scrolled": true
   },
   "outputs": [],
   "source": [
    "hotel_bookings['arrival_date'] = pd.to_datetime(dict(year=hotel_bookings.arrival_date_year,\n",
    "                                                     month=hotel_bookings.arrival_date_month_conv,\n",
    "                                                     day=hotel_bookings.arrival_date_day_of_month))"
   ]
  },
  {
   "cell_type": "code",
   "execution_count": 34,
   "id": "fd7efb61",
   "metadata": {
    "scrolled": true
   },
   "outputs": [
    {
     "data": {
      "text/html": [
       "<div>\n",
       "<style scoped>\n",
       "    .dataframe tbody tr th:only-of-type {\n",
       "        vertical-align: middle;\n",
       "    }\n",
       "\n",
       "    .dataframe tbody tr th {\n",
       "        vertical-align: top;\n",
       "    }\n",
       "\n",
       "    .dataframe thead th {\n",
       "        text-align: right;\n",
       "    }\n",
       "</style>\n",
       "<table border=\"1\" class=\"dataframe\">\n",
       "  <thead>\n",
       "    <tr style=\"text-align: right;\">\n",
       "      <th></th>\n",
       "      <th>arrival_date_day_of_month</th>\n",
       "      <th>arrival_date_month_conv</th>\n",
       "      <th>arrival_date_year</th>\n",
       "      <th>arrival_date</th>\n",
       "    </tr>\n",
       "  </thead>\n",
       "  <tbody>\n",
       "    <tr>\n",
       "      <th>82326</th>\n",
       "      <td>29</td>\n",
       "      <td>12</td>\n",
       "      <td>2015</td>\n",
       "      <td>2015-12-29</td>\n",
       "    </tr>\n",
       "    <tr>\n",
       "      <th>110818</th>\n",
       "      <td>27</td>\n",
       "      <td>4</td>\n",
       "      <td>2017</td>\n",
       "      <td>2017-04-27</td>\n",
       "    </tr>\n",
       "    <tr>\n",
       "      <th>90596</th>\n",
       "      <td>6</td>\n",
       "      <td>6</td>\n",
       "      <td>2016</td>\n",
       "      <td>2016-06-06</td>\n",
       "    </tr>\n",
       "    <tr>\n",
       "      <th>30894</th>\n",
       "      <td>5</td>\n",
       "      <td>12</td>\n",
       "      <td>2016</td>\n",
       "      <td>2016-12-05</td>\n",
       "    </tr>\n",
       "    <tr>\n",
       "      <th>116917</th>\n",
       "      <td>24</td>\n",
       "      <td>7</td>\n",
       "      <td>2017</td>\n",
       "      <td>2017-07-24</td>\n",
       "    </tr>\n",
       "    <tr>\n",
       "      <th>35963</th>\n",
       "      <td>4</td>\n",
       "      <td>5</td>\n",
       "      <td>2017</td>\n",
       "      <td>2017-05-04</td>\n",
       "    </tr>\n",
       "    <tr>\n",
       "      <th>19199</th>\n",
       "      <td>26</td>\n",
       "      <td>2</td>\n",
       "      <td>2016</td>\n",
       "      <td>2016-02-26</td>\n",
       "    </tr>\n",
       "    <tr>\n",
       "      <th>101168</th>\n",
       "      <td>3</td>\n",
       "      <td>11</td>\n",
       "      <td>2016</td>\n",
       "      <td>2016-11-03</td>\n",
       "    </tr>\n",
       "    <tr>\n",
       "      <th>90168</th>\n",
       "      <td>31</td>\n",
       "      <td>5</td>\n",
       "      <td>2016</td>\n",
       "      <td>2016-05-31</td>\n",
       "    </tr>\n",
       "    <tr>\n",
       "      <th>47135</th>\n",
       "      <td>9</td>\n",
       "      <td>2</td>\n",
       "      <td>2016</td>\n",
       "      <td>2016-02-09</td>\n",
       "    </tr>\n",
       "  </tbody>\n",
       "</table>\n",
       "</div>"
      ],
      "text/plain": [
       "        arrival_date_day_of_month  arrival_date_month_conv  arrival_date_year  \\\n",
       "82326                          29                       12               2015   \n",
       "110818                         27                        4               2017   \n",
       "90596                           6                        6               2016   \n",
       "30894                           5                       12               2016   \n",
       "116917                         24                        7               2017   \n",
       "35963                           4                        5               2017   \n",
       "19199                          26                        2               2016   \n",
       "101168                          3                       11               2016   \n",
       "90168                          31                        5               2016   \n",
       "47135                           9                        2               2016   \n",
       "\n",
       "       arrival_date  \n",
       "82326    2015-12-29  \n",
       "110818   2017-04-27  \n",
       "90596    2016-06-06  \n",
       "30894    2016-12-05  \n",
       "116917   2017-07-24  \n",
       "35963    2017-05-04  \n",
       "19199    2016-02-26  \n",
       "101168   2016-11-03  \n",
       "90168    2016-05-31  \n",
       "47135    2016-02-09  "
      ]
     },
     "execution_count": 34,
     "metadata": {},
     "output_type": "execute_result"
    }
   ],
   "source": [
    "hotel_bookings[['arrival_date_day_of_month', \n",
    "                'arrival_date_month_conv', \n",
    "                'arrival_date_year', 'arrival_date']].sample(10)"
   ]
  },
  {
   "cell_type": "markdown",
   "id": "53764ab8",
   "metadata": {},
   "source": [
    "### Determining earliest and latest dates"
   ]
  },
  {
   "cell_type": "code",
   "execution_count": 35,
   "id": "bc62c9b4",
   "metadata": {
    "scrolled": true
   },
   "outputs": [
    {
     "name": "stdout",
     "output_type": "stream",
     "text": [
      "Earliest hotel booking in dataset: 2015-07-01 00:00:00\n",
      "Latest hotel booking in dataset: 2017-08-31 00:00:00\n"
     ]
    }
   ],
   "source": [
    "print(f'Earliest hotel booking in dataset: {hotel_bookings.arrival_date.min()}')\n",
    "print(f'Latest hotel booking in dataset: {hotel_bookings.arrival_date.max()}')"
   ]
  },
  {
   "cell_type": "markdown",
   "id": "4765f9d7",
   "metadata": {},
   "source": [
    "> This confirms the information we were initially given about the dataset. The hotel bookings are from July 1, 2015 to August 31, 2017."
   ]
  },
  {
   "cell_type": "markdown",
   "id": "f3658776",
   "metadata": {},
   "source": [
    "# Looking at cancel rates per month"
   ]
  },
  {
   "cell_type": "code",
   "execution_count": 132,
   "id": "a6008b64",
   "metadata": {},
   "outputs": [],
   "source": [
    "hotel_cancel_rates_month = city_bookings.groupby('arrival_date_month').is_canceled.sum() / \\\n",
    "                          city_bookings.groupby('arrival_date_month').is_canceled.count()"
   ]
  },
  {
   "cell_type": "markdown",
   "id": "bfbdf99c",
   "metadata": {},
   "source": [
    "### Putting months in chronological order rather than alphabetical"
   ]
  },
  {
   "cell_type": "code",
   "execution_count": 133,
   "id": "f05e518f",
   "metadata": {
    "scrolled": true
   },
   "outputs": [],
   "source": [
    "months_ordered = ['January', 'February', 'March', \n",
    "                  'April', 'May', 'June', 'July', \n",
    "                  'August', 'September', 'October', \n",
    "                  'November', 'December']"
   ]
  },
  {
   "cell_type": "code",
   "execution_count": 134,
   "id": "b25ac9ce",
   "metadata": {},
   "outputs": [],
   "source": [
    "hotel_cancel_rates_month = hotel_cancel_rates_month.reindex(months_ordered)"
   ]
  },
  {
   "cell_type": "code",
   "execution_count": 143,
   "id": "7948c21c",
   "metadata": {},
   "outputs": [
    {
     "data": {
      "image/png": "[encoded data removed]",
      "text/plain": [
       "<Figure size 864x648 with 1 Axes>"
      ]
     },
     "metadata": {
      "needs_background": "light"
     },
     "output_type": "display_data"
    }
   ],
   "source": [
    "months = hotel_cancel_rates_month.index\n",
    "\n",
    "fig = plt.figure(figsize = (12,9))\n",
    "plt.title(\"Cancellation Rates by Month\", fontsize = 16)\n",
    "\n",
    "plt.bar(months, hotel_cancel_rates_month[months], color='#3290D1')\n",
    "plt.ylabel(\"Rates\", fontsize = 12)\n",
    "plt.xticks(rotation=45)\n",
    "plt.axhline(y=.4, linestyle='--', color='black')\n",
    "\n",
    "plt.tight_layout()"
   ]
  },
  {
   "cell_type": "markdown",
   "id": "236a4ee6",
   "metadata": {},
   "source": [
    "### Separating city hotels and resort hotel data"
   ]
  },
  {
   "cell_type": "code",
   "execution_count": 36,
   "id": "7d9f079e",
   "metadata": {
    "scrolled": true
   },
   "outputs": [],
   "source": [
    "city_bookings = hotel_bookings.loc[hotel_bookings.hotel == 'City Hotel']"
   ]
  },
  {
   "cell_type": "code",
   "execution_count": 37,
   "id": "4bb3f2bc",
   "metadata": {
    "scrolled": true
   },
   "outputs": [],
   "source": [
    "resort_bookings = hotel_bookings.loc[hotel_bookings.hotel == 'Resort Hotel']"
   ]
  },
  {
   "cell_type": "code",
   "execution_count": 38,
   "id": "fcb8e1f7",
   "metadata": {
    "scrolled": true
   },
   "outputs": [
    {
     "name": "stdout",
     "output_type": "stream",
     "text": [
      "Resort Hotel cancellation rate: 0.27763354967548676\n",
      "City Hotel cancellation rate: 0.41726963317786464\n"
     ]
    }
   ],
   "source": [
    "print(f'Resort Hotel cancellation rate: {resort_bookings.is_canceled.sum() / resort_bookings.shape[0]}')\n",
    "print(f'City Hotel cancellation rate: {city_bookings.is_canceled.sum() / city_bookings.shape[0]}')"
   ]
  },
  {
   "cell_type": "markdown",
   "id": "805335d8",
   "metadata": {},
   "source": [
    "> We can see varying cancellation rates between city and resort hotels. City hotels show a significantly higher rate of cancellations compared to resort hotels. This disparity may need to be investigated separately. We might see different features being the main predictors of cancellations."
   ]
  },
  {
   "cell_type": "markdown",
   "id": "4006b727",
   "metadata": {},
   "source": [
    "### Creating cancel rates per month for resort and city hotels "
   ]
  },
  {
   "cell_type": "code",
   "execution_count": 39,
   "id": "85e864c9",
   "metadata": {
    "scrolled": true
   },
   "outputs": [],
   "source": [
    "city_cancel_rates_month = city_bookings.groupby('arrival_date_month').is_canceled.sum() / \\\n",
    "                          city_bookings.groupby('arrival_date_month').is_canceled.count()"
   ]
  },
  {
   "cell_type": "code",
   "execution_count": 40,
   "id": "19b213a4",
   "metadata": {
    "scrolled": true
   },
   "outputs": [],
   "source": [
    "resort_cancel_rates_month = resort_bookings.groupby('arrival_date_month').is_canceled.sum() / \\\n",
    "                            resort_bookings.groupby('arrival_date_month').is_canceled.count()"
   ]
  },
  {
   "cell_type": "markdown",
   "id": "50649ede",
   "metadata": {},
   "source": [
    "### Putting months in chronological order rather than alphabetical"
   ]
  },
  {
   "cell_type": "code",
   "execution_count": 41,
   "id": "bc47e8a2",
   "metadata": {
    "scrolled": true
   },
   "outputs": [],
   "source": [
    "months_ordered = ['January', 'February', 'March', \n",
    "                  'April', 'May', 'June', 'July', \n",
    "                  'August', 'September', 'October', \n",
    "                  'November', 'December']"
   ]
  },
  {
   "cell_type": "code",
   "execution_count": 42,
   "id": "f6f80c29",
   "metadata": {
    "scrolled": true
   },
   "outputs": [],
   "source": [
    "city_cancel_rates_month = city_cancel_rates_month.reindex(months_ordered)"
   ]
  },
  {
   "cell_type": "code",
   "execution_count": 43,
   "id": "35d4616f",
   "metadata": {
    "scrolled": true
   },
   "outputs": [],
   "source": [
    "resort_cancel_rates_month = resort_cancel_rates_month.reindex(months_ordered)"
   ]
  },
  {
   "cell_type": "code",
   "execution_count": 44,
   "id": "1059e2c6",
   "metadata": {
    "scrolled": true
   },
   "outputs": [
    {
     "data": {
      "text/plain": [
       "arrival_date_month\n",
       "January      0.396681\n",
       "February     0.382880\n",
       "March        0.369464\n",
       "April        0.463235\n",
       "May          0.443756\n",
       "June         0.446922\n",
       "July         0.408754\n",
       "August       0.400980\n",
       "September    0.420270\n",
       "October      0.429717\n",
       "November     0.381226\n",
       "December     0.421104\n",
       "Name: is_canceled, dtype: float64"
      ]
     },
     "execution_count": 44,
     "metadata": {},
     "output_type": "execute_result"
    }
   ],
   "source": [
    "city_cancel_rates_month"
   ]
  },
  {
   "cell_type": "code",
   "execution_count": 45,
   "id": "a53a1ca4",
   "metadata": {
    "scrolled": true
   },
   "outputs": [
    {
     "data": {
      "text/plain": [
       "Index(['January', 'February', 'March', 'April', 'May', 'June', 'July',\n",
       "       'August', 'September', 'October', 'November', 'December'],\n",
       "      dtype='object', name='arrival_date_month')"
      ]
     },
     "execution_count": 45,
     "metadata": {},
     "output_type": "execute_result"
    }
   ],
   "source": [
    "city_cancel_rates_month.index"
   ]
  },
  {
   "cell_type": "code",
   "execution_count": 46,
   "id": "0b0e9d32",
   "metadata": {
    "scrolled": true
   },
   "outputs": [
    {
     "data": {
      "text/plain": [
       "0.3966809421841542"
      ]
     },
     "execution_count": 46,
     "metadata": {},
     "output_type": "execute_result"
    }
   ],
   "source": [
    "city_cancel_rates_month['January']"
   ]
  },
  {
   "cell_type": "markdown",
   "id": "774332a3",
   "metadata": {},
   "source": [
    "### Plotting side by side comparison of cancellation rates in resort and city hotels"
   ]
  },
  {
   "cell_type": "code",
   "execution_count": 141,
   "id": "edd58ce8",
   "metadata": {
    "scrolled": false
   },
   "outputs": [
    {
     "data": {
      "image/png": "[encoded data removed]",
      "text/plain": [
       "<Figure size 864x648 with 1 Axes>"
      ]
     },
     "metadata": {
      "needs_background": "light"
     },
     "output_type": "display_data"
    }
   ],
   "source": [
    "city_months = city_cancel_rates_month.index\n",
    "resort_months = resort_cancel_rates_month.index\n",
    "\n",
    "fig = plt.figure(figsize = (12,9))\n",
    "plt.title(\"Cancellation Rates at Resort vs. City Hotel\", fontsize = 16)\n",
    "width = .35\n",
    "plt.bar(city_months, city_cancel_rates_month[city_months], \n",
    "        -width, align='edge', color='y', label='City')\n",
    "plt.bar(resort_months, resort_cancel_rates_month[resort_months], \n",
    "        +width, align='edge', color='b', label='Resort')\n",
    "plt.ylabel(\"Rates\", fontsize = 12)\n",
    "plt.xticks(rotation=45)\n",
    "plt.axhline(y=.43, linestyle='--', color='black')\n",
    "plt.axhline(y=.30, linestyle='--', color='black')\n",
    "\n",
    "plt.legend(loc = 'upper right')\n",
    "plt.tight_layout()"
   ]
  },
  {
   "cell_type": "markdown",
   "id": "ab735f47",
   "metadata": {},
   "source": [
    "> We can see a pretty significant disparity between cancellation rates each month between city hotels and resort hotels.\n",
    "\n",
    "> We can see the highest rates for the resort hotels occur from April to September.\n",
    "\n",
    "> The highest cancellation rates for the city hotels occur from April to June, but also include September, October, and December."
   ]
  },
  {
   "cell_type": "markdown",
   "id": "cdaad80a",
   "metadata": {},
   "source": [
    "# Looking at cancellation rate by groups in different categories"
   ]
  },
  {
   "cell_type": "markdown",
   "id": "10b3f540",
   "metadata": {},
   "source": [
    "### Create function that divides features into categories and calculates cancellation rate, number of cancellations, number of instances, and percentage of whole of each category"
   ]
  },
  {
   "cell_type": "code",
   "execution_count": 48,
   "id": "b00f6f88",
   "metadata": {
    "scrolled": true
   },
   "outputs": [],
   "source": [
    "def cancel_rate_grouping(dataset, feature):\n",
    "    '''returns dataframe with cancellation rates, number of cancellations, \n",
    "       and category percentage of whole grouped by category of feature'''\n",
    "    dataframe = pd.DataFrame(dataset.groupby(feature).is_canceled.sum() / \\\n",
    "                             dataset.groupby(feature).is_canceled.count())\n",
    "    dataframe.reset_index(inplace=True)\n",
    "    dataframe.rename(columns={'is_canceled':'cancel_rate'}, inplace=True)\n",
    "    dataframe['num_cancellations'] = dataset.groupby(feature).is_canceled.sum().values\n",
    "    dataframe['num_instances'] = dataset.groupby(feature).is_canceled.count().values\n",
    "    dataframe['feature_perc'] = dataset.groupby(feature).is_canceled.count().values / \\\n",
    "                                dataset.shape[0]\n",
    "    return dataframe"
   ]
  },
  {
   "cell_type": "markdown",
   "id": "deb1ab94",
   "metadata": {},
   "source": [
    "### Cancellations by market_segment"
   ]
  },
  {
   "cell_type": "code",
   "execution_count": 49,
   "id": "434b51be",
   "metadata": {
    "scrolled": true
   },
   "outputs": [],
   "source": [
    "market_segment_cr = cancel_rate_grouping(hotel_bookings, 'market_segment')"
   ]
  },
  {
   "cell_type": "code",
   "execution_count": 50,
   "id": "e8a89fa3",
   "metadata": {
    "scrolled": true
   },
   "outputs": [
    {
     "data": {
      "text/html": [
       "<div>\n",
       "<style scoped>\n",
       "    .dataframe tbody tr th:only-of-type {\n",
       "        vertical-align: middle;\n",
       "    }\n",
       "\n",
       "    .dataframe tbody tr th {\n",
       "        vertical-align: top;\n",
       "    }\n",
       "\n",
       "    .dataframe thead th {\n",
       "        text-align: right;\n",
       "    }\n",
       "</style>\n",
       "<table border=\"1\" class=\"dataframe\">\n",
       "  <thead>\n",
       "    <tr style=\"text-align: right;\">\n",
       "      <th></th>\n",
       "      <th>market_segment</th>\n",
       "      <th>cancel_rate</th>\n",
       "      <th>num_cancellations</th>\n",
       "      <th>num_instances</th>\n",
       "      <th>feature_perc</th>\n",
       "    </tr>\n",
       "  </thead>\n",
       "  <tbody>\n",
       "    <tr>\n",
       "      <th>0</th>\n",
       "      <td>Aviation</td>\n",
       "      <td>0.219409</td>\n",
       "      <td>52</td>\n",
       "      <td>237</td>\n",
       "      <td>0.001985</td>\n",
       "    </tr>\n",
       "    <tr>\n",
       "      <th>1</th>\n",
       "      <td>Complementary</td>\n",
       "      <td>0.130552</td>\n",
       "      <td>97</td>\n",
       "      <td>743</td>\n",
       "      <td>0.006223</td>\n",
       "    </tr>\n",
       "    <tr>\n",
       "      <th>2</th>\n",
       "      <td>Corporate</td>\n",
       "      <td>0.187347</td>\n",
       "      <td>992</td>\n",
       "      <td>5295</td>\n",
       "      <td>0.044350</td>\n",
       "    </tr>\n",
       "    <tr>\n",
       "      <th>3</th>\n",
       "      <td>Direct</td>\n",
       "      <td>0.153419</td>\n",
       "      <td>1934</td>\n",
       "      <td>12606</td>\n",
       "      <td>0.105587</td>\n",
       "    </tr>\n",
       "    <tr>\n",
       "      <th>4</th>\n",
       "      <td>Groups</td>\n",
       "      <td>0.610620</td>\n",
       "      <td>12097</td>\n",
       "      <td>19811</td>\n",
       "      <td>0.165935</td>\n",
       "    </tr>\n",
       "    <tr>\n",
       "      <th>5</th>\n",
       "      <td>Offline TA/TO</td>\n",
       "      <td>0.343160</td>\n",
       "      <td>8311</td>\n",
       "      <td>24219</td>\n",
       "      <td>0.202856</td>\n",
       "    </tr>\n",
       "    <tr>\n",
       "      <th>6</th>\n",
       "      <td>Online TA</td>\n",
       "      <td>0.367211</td>\n",
       "      <td>20739</td>\n",
       "      <td>56477</td>\n",
       "      <td>0.473046</td>\n",
       "    </tr>\n",
       "    <tr>\n",
       "      <th>7</th>\n",
       "      <td>Undefined</td>\n",
       "      <td>1.000000</td>\n",
       "      <td>2</td>\n",
       "      <td>2</td>\n",
       "      <td>0.000017</td>\n",
       "    </tr>\n",
       "  </tbody>\n",
       "</table>\n",
       "</div>"
      ],
      "text/plain": [
       "  market_segment  cancel_rate  num_cancellations  num_instances  feature_perc\n",
       "0       Aviation     0.219409                 52            237      0.001985\n",
       "1  Complementary     0.130552                 97            743      0.006223\n",
       "2      Corporate     0.187347                992           5295      0.044350\n",
       "3         Direct     0.153419               1934          12606      0.105587\n",
       "4         Groups     0.610620              12097          19811      0.165935\n",
       "5  Offline TA/TO     0.343160               8311          24219      0.202856\n",
       "6      Online TA     0.367211              20739          56477      0.473046\n",
       "7      Undefined     1.000000                  2              2      0.000017"
      ]
     },
     "execution_count": 50,
     "metadata": {},
     "output_type": "execute_result"
    }
   ],
   "source": [
    "market_segment_cr"
   ]
  },
  {
   "cell_type": "markdown",
   "id": "09edcf62",
   "metadata": {},
   "source": [
    "> We can see that cancellation rate is highest for undefined, but there are only 2 instances so we can discard that information. The next highest cancellation rate is for Groups which also has a large number of instances and represents over 16% of the market_segment. We can also see that Online TA has a high cancellation rate and the highest number of cancellations due to it representing over 47% of the market_segment."
   ]
  },
  {
   "cell_type": "markdown",
   "id": "fdfaab88",
   "metadata": {},
   "source": [
    "### Cancellations by distribution_channel"
   ]
  },
  {
   "cell_type": "code",
   "execution_count": 51,
   "id": "24148966",
   "metadata": {
    "scrolled": true
   },
   "outputs": [],
   "source": [
    "distribution_channel_cr = cancel_rate_grouping(hotel_bookings, 'distribution_channel')"
   ]
  },
  {
   "cell_type": "code",
   "execution_count": 52,
   "id": "c946d4f8",
   "metadata": {
    "scrolled": true
   },
   "outputs": [
    {
     "data": {
      "text/html": [
       "<div>\n",
       "<style scoped>\n",
       "    .dataframe tbody tr th:only-of-type {\n",
       "        vertical-align: middle;\n",
       "    }\n",
       "\n",
       "    .dataframe tbody tr th {\n",
       "        vertical-align: top;\n",
       "    }\n",
       "\n",
       "    .dataframe thead th {\n",
       "        text-align: right;\n",
       "    }\n",
       "</style>\n",
       "<table border=\"1\" class=\"dataframe\">\n",
       "  <thead>\n",
       "    <tr style=\"text-align: right;\">\n",
       "      <th></th>\n",
       "      <th>distribution_channel</th>\n",
       "      <th>cancel_rate</th>\n",
       "      <th>num_cancellations</th>\n",
       "      <th>num_instances</th>\n",
       "      <th>feature_perc</th>\n",
       "    </tr>\n",
       "  </thead>\n",
       "  <tbody>\n",
       "    <tr>\n",
       "      <th>0</th>\n",
       "      <td>Corporate</td>\n",
       "      <td>0.220758</td>\n",
       "      <td>1474</td>\n",
       "      <td>6677</td>\n",
       "      <td>0.055926</td>\n",
       "    </tr>\n",
       "    <tr>\n",
       "      <th>1</th>\n",
       "      <td>Direct</td>\n",
       "      <td>0.174599</td>\n",
       "      <td>2557</td>\n",
       "      <td>14645</td>\n",
       "      <td>0.122665</td>\n",
       "    </tr>\n",
       "    <tr>\n",
       "      <th>2</th>\n",
       "      <td>GDS</td>\n",
       "      <td>0.191710</td>\n",
       "      <td>37</td>\n",
       "      <td>193</td>\n",
       "      <td>0.001617</td>\n",
       "    </tr>\n",
       "    <tr>\n",
       "      <th>3</th>\n",
       "      <td>TA/TO</td>\n",
       "      <td>0.410259</td>\n",
       "      <td>40152</td>\n",
       "      <td>97870</td>\n",
       "      <td>0.819750</td>\n",
       "    </tr>\n",
       "    <tr>\n",
       "      <th>4</th>\n",
       "      <td>Undefined</td>\n",
       "      <td>0.800000</td>\n",
       "      <td>4</td>\n",
       "      <td>5</td>\n",
       "      <td>0.000042</td>\n",
       "    </tr>\n",
       "  </tbody>\n",
       "</table>\n",
       "</div>"
      ],
      "text/plain": [
       "  distribution_channel  cancel_rate  num_cancellations  num_instances  \\\n",
       "0            Corporate     0.220758               1474           6677   \n",
       "1               Direct     0.174599               2557          14645   \n",
       "2                  GDS     0.191710                 37            193   \n",
       "3                TA/TO     0.410259              40152          97870   \n",
       "4            Undefined     0.800000                  4              5   \n",
       "\n",
       "   feature_perc  \n",
       "0      0.055926  \n",
       "1      0.122665  \n",
       "2      0.001617  \n",
       "3      0.819750  \n",
       "4      0.000042  "
      ]
     },
     "execution_count": 52,
     "metadata": {},
     "output_type": "execute_result"
    }
   ],
   "source": [
    "distribution_channel_cr"
   ]
  },
  {
   "cell_type": "markdown",
   "id": "da4a44fb",
   "metadata": {},
   "source": [
    "### Cancellations by total_of_special_requests"
   ]
  },
  {
   "cell_type": "code",
   "execution_count": 53,
   "id": "58cf5440",
   "metadata": {
    "scrolled": true
   },
   "outputs": [],
   "source": [
    "special_requests_cr = cancel_rate_grouping(hotel_bookings, 'total_of_special_requests')"
   ]
  },
  {
   "cell_type": "code",
   "execution_count": 54,
   "id": "f4a85ad5",
   "metadata": {
    "scrolled": true
   },
   "outputs": [
    {
     "data": {
      "text/html": [
       "<div>\n",
       "<style scoped>\n",
       "    .dataframe tbody tr th:only-of-type {\n",
       "        vertical-align: middle;\n",
       "    }\n",
       "\n",
       "    .dataframe tbody tr th {\n",
       "        vertical-align: top;\n",
       "    }\n",
       "\n",
       "    .dataframe thead th {\n",
       "        text-align: right;\n",
       "    }\n",
       "</style>\n",
       "<table border=\"1\" class=\"dataframe\">\n",
       "  <thead>\n",
       "    <tr style=\"text-align: right;\">\n",
       "      <th></th>\n",
       "      <th>total_of_special_requests</th>\n",
       "      <th>cancel_rate</th>\n",
       "      <th>num_cancellations</th>\n",
       "      <th>num_instances</th>\n",
       "      <th>feature_perc</th>\n",
       "    </tr>\n",
       "  </thead>\n",
       "  <tbody>\n",
       "    <tr>\n",
       "      <th>0</th>\n",
       "      <td>0</td>\n",
       "      <td>0.477204</td>\n",
       "      <td>33556</td>\n",
       "      <td>70318</td>\n",
       "      <td>0.588977</td>\n",
       "    </tr>\n",
       "    <tr>\n",
       "      <th>1</th>\n",
       "      <td>1</td>\n",
       "      <td>0.220249</td>\n",
       "      <td>7318</td>\n",
       "      <td>33226</td>\n",
       "      <td>0.278298</td>\n",
       "    </tr>\n",
       "    <tr>\n",
       "      <th>2</th>\n",
       "      <td>2</td>\n",
       "      <td>0.220989</td>\n",
       "      <td>2866</td>\n",
       "      <td>12969</td>\n",
       "      <td>0.108627</td>\n",
       "    </tr>\n",
       "    <tr>\n",
       "      <th>3</th>\n",
       "      <td>3</td>\n",
       "      <td>0.178614</td>\n",
       "      <td>446</td>\n",
       "      <td>2497</td>\n",
       "      <td>0.020915</td>\n",
       "    </tr>\n",
       "    <tr>\n",
       "      <th>4</th>\n",
       "      <td>4</td>\n",
       "      <td>0.105882</td>\n",
       "      <td>36</td>\n",
       "      <td>340</td>\n",
       "      <td>0.002848</td>\n",
       "    </tr>\n",
       "    <tr>\n",
       "      <th>5</th>\n",
       "      <td>5</td>\n",
       "      <td>0.050000</td>\n",
       "      <td>2</td>\n",
       "      <td>40</td>\n",
       "      <td>0.000335</td>\n",
       "    </tr>\n",
       "  </tbody>\n",
       "</table>\n",
       "</div>"
      ],
      "text/plain": [
       "   total_of_special_requests  cancel_rate  num_cancellations  num_instances  \\\n",
       "0                          0     0.477204              33556          70318   \n",
       "1                          1     0.220249               7318          33226   \n",
       "2                          2     0.220989               2866          12969   \n",
       "3                          3     0.178614                446           2497   \n",
       "4                          4     0.105882                 36            340   \n",
       "5                          5     0.050000                  2             40   \n",
       "\n",
       "   feature_perc  \n",
       "0      0.588977  \n",
       "1      0.278298  \n",
       "2      0.108627  \n",
       "3      0.020915  \n",
       "4      0.002848  \n",
       "5      0.000335  "
      ]
     },
     "execution_count": 54,
     "metadata": {},
     "output_type": "execute_result"
    }
   ],
   "source": [
    "special_requests_cr"
   ]
  },
  {
   "cell_type": "markdown",
   "id": "f42f5af9",
   "metadata": {},
   "source": [
    "> We can see a strong negative correlation between number of special requests and number of cancellations."
   ]
  },
  {
   "cell_type": "markdown",
   "id": "e5ef14ef",
   "metadata": {},
   "source": [
    "### Cancellations by is_repeated_guest"
   ]
  },
  {
   "cell_type": "code",
   "execution_count": 55,
   "id": "10a50917",
   "metadata": {
    "scrolled": true
   },
   "outputs": [],
   "source": [
    "is_repeated_guest_cr = cancel_rate_grouping(hotel_bookings, 'is_repeated_guest')"
   ]
  },
  {
   "cell_type": "code",
   "execution_count": 56,
   "id": "d5d669b0",
   "metadata": {
    "scrolled": true
   },
   "outputs": [
    {
     "data": {
      "text/html": [
       "<div>\n",
       "<style scoped>\n",
       "    .dataframe tbody tr th:only-of-type {\n",
       "        vertical-align: middle;\n",
       "    }\n",
       "\n",
       "    .dataframe tbody tr th {\n",
       "        vertical-align: top;\n",
       "    }\n",
       "\n",
       "    .dataframe thead th {\n",
       "        text-align: right;\n",
       "    }\n",
       "</style>\n",
       "<table border=\"1\" class=\"dataframe\">\n",
       "  <thead>\n",
       "    <tr style=\"text-align: right;\">\n",
       "      <th></th>\n",
       "      <th>is_repeated_guest</th>\n",
       "      <th>cancel_rate</th>\n",
       "      <th>num_cancellations</th>\n",
       "      <th>num_instances</th>\n",
       "      <th>feature_perc</th>\n",
       "    </tr>\n",
       "  </thead>\n",
       "  <tbody>\n",
       "    <tr>\n",
       "      <th>0</th>\n",
       "      <td>0</td>\n",
       "      <td>0.377851</td>\n",
       "      <td>43672</td>\n",
       "      <td>115580</td>\n",
       "      <td>0.968088</td>\n",
       "    </tr>\n",
       "    <tr>\n",
       "      <th>1</th>\n",
       "      <td>1</td>\n",
       "      <td>0.144882</td>\n",
       "      <td>552</td>\n",
       "      <td>3810</td>\n",
       "      <td>0.031912</td>\n",
       "    </tr>\n",
       "  </tbody>\n",
       "</table>\n",
       "</div>"
      ],
      "text/plain": [
       "   is_repeated_guest  cancel_rate  num_cancellations  num_instances  \\\n",
       "0                  0     0.377851              43672         115580   \n",
       "1                  1     0.144882                552           3810   \n",
       "\n",
       "   feature_perc  \n",
       "0      0.968088  \n",
       "1      0.031912  "
      ]
     },
     "execution_count": 56,
     "metadata": {},
     "output_type": "execute_result"
    }
   ],
   "source": [
    "is_repeated_guest_cr"
   ]
  },
  {
   "cell_type": "markdown",
   "id": "05bc4b95",
   "metadata": {},
   "source": [
    "> Here we can note that the cancel_rate is much higher (over double) for new guests as opposed to repeated guests."
   ]
  },
  {
   "cell_type": "markdown",
   "id": "5c0f1b54",
   "metadata": {},
   "source": [
    "### Cancellations by booking_changes"
   ]
  },
  {
   "cell_type": "code",
   "execution_count": 57,
   "id": "205d8278",
   "metadata": {
    "scrolled": true
   },
   "outputs": [],
   "source": [
    "booking_changes_cr = cancel_rate_grouping(hotel_bookings, 'booking_changes')"
   ]
  },
  {
   "cell_type": "code",
   "execution_count": 58,
   "id": "3f19ecc6",
   "metadata": {
    "scrolled": false
   },
   "outputs": [
    {
     "data": {
      "text/html": [
       "<div>\n",
       "<style scoped>\n",
       "    .dataframe tbody tr th:only-of-type {\n",
       "        vertical-align: middle;\n",
       "    }\n",
       "\n",
       "    .dataframe tbody tr th {\n",
       "        vertical-align: top;\n",
       "    }\n",
       "\n",
       "    .dataframe thead th {\n",
       "        text-align: right;\n",
       "    }\n",
       "</style>\n",
       "<table border=\"1\" class=\"dataframe\">\n",
       "  <thead>\n",
       "    <tr style=\"text-align: right;\">\n",
       "      <th></th>\n",
       "      <th>booking_changes</th>\n",
       "      <th>cancel_rate</th>\n",
       "      <th>num_cancellations</th>\n",
       "      <th>num_instances</th>\n",
       "      <th>feature_perc</th>\n",
       "    </tr>\n",
       "  </thead>\n",
       "  <tbody>\n",
       "    <tr>\n",
       "      <th>0</th>\n",
       "      <td>0</td>\n",
       "      <td>0.408542</td>\n",
       "      <td>41391</td>\n",
       "      <td>101314</td>\n",
       "      <td>0.848597</td>\n",
       "    </tr>\n",
       "    <tr>\n",
       "      <th>1</th>\n",
       "      <td>1</td>\n",
       "      <td>0.142272</td>\n",
       "      <td>1807</td>\n",
       "      <td>12701</td>\n",
       "      <td>0.106382</td>\n",
       "    </tr>\n",
       "    <tr>\n",
       "      <th>2</th>\n",
       "      <td>2</td>\n",
       "      <td>0.201314</td>\n",
       "      <td>766</td>\n",
       "      <td>3805</td>\n",
       "      <td>0.031870</td>\n",
       "    </tr>\n",
       "    <tr>\n",
       "      <th>3</th>\n",
       "      <td>3</td>\n",
       "      <td>0.155340</td>\n",
       "      <td>144</td>\n",
       "      <td>927</td>\n",
       "      <td>0.007764</td>\n",
       "    </tr>\n",
       "    <tr>\n",
       "      <th>4</th>\n",
       "      <td>4</td>\n",
       "      <td>0.178191</td>\n",
       "      <td>67</td>\n",
       "      <td>376</td>\n",
       "      <td>0.003149</td>\n",
       "    </tr>\n",
       "    <tr>\n",
       "      <th>5</th>\n",
       "      <td>5</td>\n",
       "      <td>0.169492</td>\n",
       "      <td>20</td>\n",
       "      <td>118</td>\n",
       "      <td>0.000988</td>\n",
       "    </tr>\n",
       "    <tr>\n",
       "      <th>6</th>\n",
       "      <td>6</td>\n",
       "      <td>0.285714</td>\n",
       "      <td>18</td>\n",
       "      <td>63</td>\n",
       "      <td>0.000528</td>\n",
       "    </tr>\n",
       "    <tr>\n",
       "      <th>7</th>\n",
       "      <td>7</td>\n",
       "      <td>0.096774</td>\n",
       "      <td>3</td>\n",
       "      <td>31</td>\n",
       "      <td>0.000260</td>\n",
       "    </tr>\n",
       "    <tr>\n",
       "      <th>8</th>\n",
       "      <td>8</td>\n",
       "      <td>0.235294</td>\n",
       "      <td>4</td>\n",
       "      <td>17</td>\n",
       "      <td>0.000142</td>\n",
       "    </tr>\n",
       "    <tr>\n",
       "      <th>9</th>\n",
       "      <td>9</td>\n",
       "      <td>0.125000</td>\n",
       "      <td>1</td>\n",
       "      <td>8</td>\n",
       "      <td>0.000067</td>\n",
       "    </tr>\n",
       "    <tr>\n",
       "      <th>10</th>\n",
       "      <td>10</td>\n",
       "      <td>0.166667</td>\n",
       "      <td>1</td>\n",
       "      <td>6</td>\n",
       "      <td>0.000050</td>\n",
       "    </tr>\n",
       "    <tr>\n",
       "      <th>11</th>\n",
       "      <td>11</td>\n",
       "      <td>0.000000</td>\n",
       "      <td>0</td>\n",
       "      <td>2</td>\n",
       "      <td>0.000017</td>\n",
       "    </tr>\n",
       "    <tr>\n",
       "      <th>12</th>\n",
       "      <td>12</td>\n",
       "      <td>0.000000</td>\n",
       "      <td>0</td>\n",
       "      <td>2</td>\n",
       "      <td>0.000017</td>\n",
       "    </tr>\n",
       "    <tr>\n",
       "      <th>13</th>\n",
       "      <td>13</td>\n",
       "      <td>0.000000</td>\n",
       "      <td>0</td>\n",
       "      <td>5</td>\n",
       "      <td>0.000042</td>\n",
       "    </tr>\n",
       "    <tr>\n",
       "      <th>14</th>\n",
       "      <td>14</td>\n",
       "      <td>0.200000</td>\n",
       "      <td>1</td>\n",
       "      <td>5</td>\n",
       "      <td>0.000042</td>\n",
       "    </tr>\n",
       "    <tr>\n",
       "      <th>15</th>\n",
       "      <td>15</td>\n",
       "      <td>0.000000</td>\n",
       "      <td>0</td>\n",
       "      <td>3</td>\n",
       "      <td>0.000025</td>\n",
       "    </tr>\n",
       "    <tr>\n",
       "      <th>16</th>\n",
       "      <td>16</td>\n",
       "      <td>0.500000</td>\n",
       "      <td>1</td>\n",
       "      <td>2</td>\n",
       "      <td>0.000017</td>\n",
       "    </tr>\n",
       "    <tr>\n",
       "      <th>17</th>\n",
       "      <td>17</td>\n",
       "      <td>0.000000</td>\n",
       "      <td>0</td>\n",
       "      <td>2</td>\n",
       "      <td>0.000017</td>\n",
       "    </tr>\n",
       "    <tr>\n",
       "      <th>18</th>\n",
       "      <td>18</td>\n",
       "      <td>0.000000</td>\n",
       "      <td>0</td>\n",
       "      <td>1</td>\n",
       "      <td>0.000008</td>\n",
       "    </tr>\n",
       "    <tr>\n",
       "      <th>19</th>\n",
       "      <td>20</td>\n",
       "      <td>0.000000</td>\n",
       "      <td>0</td>\n",
       "      <td>1</td>\n",
       "      <td>0.000008</td>\n",
       "    </tr>\n",
       "    <tr>\n",
       "      <th>20</th>\n",
       "      <td>21</td>\n",
       "      <td>0.000000</td>\n",
       "      <td>0</td>\n",
       "      <td>1</td>\n",
       "      <td>0.000008</td>\n",
       "    </tr>\n",
       "  </tbody>\n",
       "</table>\n",
       "</div>"
      ],
      "text/plain": [
       "    booking_changes  cancel_rate  num_cancellations  num_instances  \\\n",
       "0                 0     0.408542              41391         101314   \n",
       "1                 1     0.142272               1807          12701   \n",
       "2                 2     0.201314                766           3805   \n",
       "3                 3     0.155340                144            927   \n",
       "4                 4     0.178191                 67            376   \n",
       "5                 5     0.169492                 20            118   \n",
       "6                 6     0.285714                 18             63   \n",
       "7                 7     0.096774                  3             31   \n",
       "8                 8     0.235294                  4             17   \n",
       "9                 9     0.125000                  1              8   \n",
       "10               10     0.166667                  1              6   \n",
       "11               11     0.000000                  0              2   \n",
       "12               12     0.000000                  0              2   \n",
       "13               13     0.000000                  0              5   \n",
       "14               14     0.200000                  1              5   \n",
       "15               15     0.000000                  0              3   \n",
       "16               16     0.500000                  1              2   \n",
       "17               17     0.000000                  0              2   \n",
       "18               18     0.000000                  0              1   \n",
       "19               20     0.000000                  0              1   \n",
       "20               21     0.000000                  0              1   \n",
       "\n",
       "    feature_perc  \n",
       "0       0.848597  \n",
       "1       0.106382  \n",
       "2       0.031870  \n",
       "3       0.007764  \n",
       "4       0.003149  \n",
       "5       0.000988  \n",
       "6       0.000528  \n",
       "7       0.000260  \n",
       "8       0.000142  \n",
       "9       0.000067  \n",
       "10      0.000050  \n",
       "11      0.000017  \n",
       "12      0.000017  \n",
       "13      0.000042  \n",
       "14      0.000042  \n",
       "15      0.000025  \n",
       "16      0.000017  \n",
       "17      0.000017  \n",
       "18      0.000008  \n",
       "19      0.000008  \n",
       "20      0.000008  "
      ]
     },
     "execution_count": 58,
     "metadata": {},
     "output_type": "execute_result"
    }
   ],
   "source": [
    "booking_changes_cr"
   ]
  },
  {
   "cell_type": "markdown",
   "id": "d53309ca",
   "metadata": {},
   "source": [
    "> We can see a fairly strong negative correlation between booking_changes and cancel_rate. I believe that this is indicative of the person who made the booking updating the booking in anticipation for actually showing up rather than canceling. This may be useful information when trying to predict whether or not booking will be canceled. "
   ]
  },
  {
   "cell_type": "markdown",
   "id": "44b34334",
   "metadata": {},
   "source": [
    "### Cancellations by deposit_type"
   ]
  },
  {
   "cell_type": "code",
   "execution_count": 59,
   "id": "1b21942a",
   "metadata": {
    "scrolled": true
   },
   "outputs": [],
   "source": [
    "deposit_type_cr = cancel_rate_grouping(hotel_bookings, 'deposit_type')"
   ]
  },
  {
   "cell_type": "code",
   "execution_count": 60,
   "id": "501c6d78",
   "metadata": {
    "scrolled": true
   },
   "outputs": [
    {
     "data": {
      "text/html": [
       "<div>\n",
       "<style scoped>\n",
       "    .dataframe tbody tr th:only-of-type {\n",
       "        vertical-align: middle;\n",
       "    }\n",
       "\n",
       "    .dataframe tbody tr th {\n",
       "        vertical-align: top;\n",
       "    }\n",
       "\n",
       "    .dataframe thead th {\n",
       "        text-align: right;\n",
       "    }\n",
       "</style>\n",
       "<table border=\"1\" class=\"dataframe\">\n",
       "  <thead>\n",
       "    <tr style=\"text-align: right;\">\n",
       "      <th></th>\n",
       "      <th>deposit_type</th>\n",
       "      <th>cancel_rate</th>\n",
       "      <th>num_cancellations</th>\n",
       "      <th>num_instances</th>\n",
       "      <th>feature_perc</th>\n",
       "    </tr>\n",
       "  </thead>\n",
       "  <tbody>\n",
       "    <tr>\n",
       "      <th>0</th>\n",
       "      <td>No Deposit</td>\n",
       "      <td>0.283770</td>\n",
       "      <td>29694</td>\n",
       "      <td>104641</td>\n",
       "      <td>0.876464</td>\n",
       "    </tr>\n",
       "    <tr>\n",
       "      <th>1</th>\n",
       "      <td>Non Refund</td>\n",
       "      <td>0.993624</td>\n",
       "      <td>14494</td>\n",
       "      <td>14587</td>\n",
       "      <td>0.122179</td>\n",
       "    </tr>\n",
       "    <tr>\n",
       "      <th>2</th>\n",
       "      <td>Refundable</td>\n",
       "      <td>0.222222</td>\n",
       "      <td>36</td>\n",
       "      <td>162</td>\n",
       "      <td>0.001357</td>\n",
       "    </tr>\n",
       "  </tbody>\n",
       "</table>\n",
       "</div>"
      ],
      "text/plain": [
       "  deposit_type  cancel_rate  num_cancellations  num_instances  feature_perc\n",
       "0   No Deposit     0.283770              29694         104641      0.876464\n",
       "1   Non Refund     0.993624              14494          14587      0.122179\n",
       "2   Refundable     0.222222                 36            162      0.001357"
      ]
     },
     "execution_count": 60,
     "metadata": {},
     "output_type": "execute_result"
    }
   ],
   "source": [
    "deposit_type_cr"
   ]
  },
  {
   "cell_type": "markdown",
   "id": "ba128d5f",
   "metadata": {},
   "source": [
    "> It's interesting to note that the lowest rate of cancellations came from refundable type bookings. No deposit bookings represent the largest category in deposit_type. There are still a large number of non refundable booking cancellations which I did not expect. The rate of cancellation for non refundable deposit_type was over 99%. This indicates that non-refundable deposits are not the best deterrent when it comes to cancellations."
   ]
  },
  {
   "cell_type": "markdown",
   "id": "46192b50",
   "metadata": {},
   "source": [
    "### Cancellations by customer_type"
   ]
  },
  {
   "cell_type": "code",
   "execution_count": 61,
   "id": "34b0c137",
   "metadata": {
    "scrolled": true
   },
   "outputs": [],
   "source": [
    "customer_type_cr = cancel_rate_grouping(hotel_bookings, 'customer_type')"
   ]
  },
  {
   "cell_type": "code",
   "execution_count": 62,
   "id": "75de95a6",
   "metadata": {
    "scrolled": true
   },
   "outputs": [
    {
     "data": {
      "text/html": [
       "<div>\n",
       "<style scoped>\n",
       "    .dataframe tbody tr th:only-of-type {\n",
       "        vertical-align: middle;\n",
       "    }\n",
       "\n",
       "    .dataframe tbody tr th {\n",
       "        vertical-align: top;\n",
       "    }\n",
       "\n",
       "    .dataframe thead th {\n",
       "        text-align: right;\n",
       "    }\n",
       "</style>\n",
       "<table border=\"1\" class=\"dataframe\">\n",
       "  <thead>\n",
       "    <tr style=\"text-align: right;\">\n",
       "      <th></th>\n",
       "      <th>customer_type</th>\n",
       "      <th>cancel_rate</th>\n",
       "      <th>num_cancellations</th>\n",
       "      <th>num_instances</th>\n",
       "      <th>feature_perc</th>\n",
       "    </tr>\n",
       "  </thead>\n",
       "  <tbody>\n",
       "    <tr>\n",
       "      <th>0</th>\n",
       "      <td>Contract</td>\n",
       "      <td>0.309617</td>\n",
       "      <td>1262</td>\n",
       "      <td>4076</td>\n",
       "      <td>0.034140</td>\n",
       "    </tr>\n",
       "    <tr>\n",
       "      <th>1</th>\n",
       "      <td>Group</td>\n",
       "      <td>0.102253</td>\n",
       "      <td>59</td>\n",
       "      <td>577</td>\n",
       "      <td>0.004833</td>\n",
       "    </tr>\n",
       "    <tr>\n",
       "      <th>2</th>\n",
       "      <td>Transient</td>\n",
       "      <td>0.407463</td>\n",
       "      <td>36514</td>\n",
       "      <td>89613</td>\n",
       "      <td>0.750591</td>\n",
       "    </tr>\n",
       "    <tr>\n",
       "      <th>3</th>\n",
       "      <td>Transient-Party</td>\n",
       "      <td>0.254299</td>\n",
       "      <td>6389</td>\n",
       "      <td>25124</td>\n",
       "      <td>0.210436</td>\n",
       "    </tr>\n",
       "  </tbody>\n",
       "</table>\n",
       "</div>"
      ],
      "text/plain": [
       "     customer_type  cancel_rate  num_cancellations  num_instances  \\\n",
       "0         Contract     0.309617               1262           4076   \n",
       "1            Group     0.102253                 59            577   \n",
       "2        Transient     0.407463              36514          89613   \n",
       "3  Transient-Party     0.254299               6389          25124   \n",
       "\n",
       "   feature_perc  \n",
       "0      0.034140  \n",
       "1      0.004833  \n",
       "2      0.750591  \n",
       "3      0.210436  "
      ]
     },
     "execution_count": 62,
     "metadata": {},
     "output_type": "execute_result"
    }
   ],
   "source": [
    "customer_type_cr"
   ]
  },
  {
   "cell_type": "markdown",
   "id": "84c36664",
   "metadata": {},
   "source": [
    "### Cancellations by lead_time"
   ]
  },
  {
   "cell_type": "code",
   "execution_count": 63,
   "id": "cc3b0cee",
   "metadata": {
    "scrolled": true
   },
   "outputs": [],
   "source": [
    "lead_time_cr = cancel_rate_grouping(hotel_bookings, 'lead_time')"
   ]
  },
  {
   "cell_type": "code",
   "execution_count": 64,
   "id": "0ffdb1bb",
   "metadata": {
    "scrolled": false
   },
   "outputs": [
    {
     "data": {
      "text/html": [
       "<div>\n",
       "<style scoped>\n",
       "    .dataframe tbody tr th:only-of-type {\n",
       "        vertical-align: middle;\n",
       "    }\n",
       "\n",
       "    .dataframe tbody tr th {\n",
       "        vertical-align: top;\n",
       "    }\n",
       "\n",
       "    .dataframe thead th {\n",
       "        text-align: right;\n",
       "    }\n",
       "</style>\n",
       "<table border=\"1\" class=\"dataframe\">\n",
       "  <thead>\n",
       "    <tr style=\"text-align: right;\">\n",
       "      <th></th>\n",
       "      <th>lead_time</th>\n",
       "      <th>cancel_rate</th>\n",
       "      <th>num_cancellations</th>\n",
       "      <th>num_instances</th>\n",
       "      <th>feature_perc</th>\n",
       "    </tr>\n",
       "  </thead>\n",
       "  <tbody>\n",
       "    <tr>\n",
       "      <th>0</th>\n",
       "      <td>0</td>\n",
       "      <td>0.067770</td>\n",
       "      <td>430</td>\n",
       "      <td>6345</td>\n",
       "      <td>0.053145</td>\n",
       "    </tr>\n",
       "    <tr>\n",
       "      <th>1</th>\n",
       "      <td>1</td>\n",
       "      <td>0.092775</td>\n",
       "      <td>321</td>\n",
       "      <td>3460</td>\n",
       "      <td>0.028981</td>\n",
       "    </tr>\n",
       "    <tr>\n",
       "      <th>2</th>\n",
       "      <td>2</td>\n",
       "      <td>0.102948</td>\n",
       "      <td>213</td>\n",
       "      <td>2069</td>\n",
       "      <td>0.017330</td>\n",
       "    </tr>\n",
       "    <tr>\n",
       "      <th>3</th>\n",
       "      <td>3</td>\n",
       "      <td>0.100220</td>\n",
       "      <td>182</td>\n",
       "      <td>1816</td>\n",
       "      <td>0.015211</td>\n",
       "    </tr>\n",
       "    <tr>\n",
       "      <th>4</th>\n",
       "      <td>4</td>\n",
       "      <td>0.102624</td>\n",
       "      <td>176</td>\n",
       "      <td>1715</td>\n",
       "      <td>0.014365</td>\n",
       "    </tr>\n",
       "    <tr>\n",
       "      <th>...</th>\n",
       "      <td>...</td>\n",
       "      <td>...</td>\n",
       "      <td>...</td>\n",
       "      <td>...</td>\n",
       "      <td>...</td>\n",
       "    </tr>\n",
       "    <tr>\n",
       "      <th>474</th>\n",
       "      <td>622</td>\n",
       "      <td>1.000000</td>\n",
       "      <td>17</td>\n",
       "      <td>17</td>\n",
       "      <td>0.000142</td>\n",
       "    </tr>\n",
       "    <tr>\n",
       "      <th>475</th>\n",
       "      <td>626</td>\n",
       "      <td>1.000000</td>\n",
       "      <td>30</td>\n",
       "      <td>30</td>\n",
       "      <td>0.000251</td>\n",
       "    </tr>\n",
       "    <tr>\n",
       "      <th>476</th>\n",
       "      <td>629</td>\n",
       "      <td>1.000000</td>\n",
       "      <td>17</td>\n",
       "      <td>17</td>\n",
       "      <td>0.000142</td>\n",
       "    </tr>\n",
       "    <tr>\n",
       "      <th>477</th>\n",
       "      <td>709</td>\n",
       "      <td>0.000000</td>\n",
       "      <td>0</td>\n",
       "      <td>1</td>\n",
       "      <td>0.000008</td>\n",
       "    </tr>\n",
       "    <tr>\n",
       "      <th>478</th>\n",
       "      <td>737</td>\n",
       "      <td>0.000000</td>\n",
       "      <td>0</td>\n",
       "      <td>1</td>\n",
       "      <td>0.000008</td>\n",
       "    </tr>\n",
       "  </tbody>\n",
       "</table>\n",
       "<p>479 rows × 5 columns</p>\n",
       "</div>"
      ],
      "text/plain": [
       "     lead_time  cancel_rate  num_cancellations  num_instances  feature_perc\n",
       "0            0     0.067770                430           6345      0.053145\n",
       "1            1     0.092775                321           3460      0.028981\n",
       "2            2     0.102948                213           2069      0.017330\n",
       "3            3     0.100220                182           1816      0.015211\n",
       "4            4     0.102624                176           1715      0.014365\n",
       "..         ...          ...                ...            ...           ...\n",
       "474        622     1.000000                 17             17      0.000142\n",
       "475        626     1.000000                 30             30      0.000251\n",
       "476        629     1.000000                 17             17      0.000142\n",
       "477        709     0.000000                  0              1      0.000008\n",
       "478        737     0.000000                  0              1      0.000008\n",
       "\n",
       "[479 rows x 5 columns]"
      ]
     },
     "execution_count": 64,
     "metadata": {},
     "output_type": "execute_result"
    }
   ],
   "source": [
    "lead_time_cr"
   ]
  },
  {
   "cell_type": "markdown",
   "id": "89e9fb12",
   "metadata": {},
   "source": [
    "> This information would be much better suited in graphical form"
   ]
  },
  {
   "cell_type": "markdown",
   "id": "6c338b0f",
   "metadata": {},
   "source": [
    "### Plotting cancellations rates by lead time"
   ]
  },
  {
   "cell_type": "code",
   "execution_count": 154,
   "id": "2b1124bb",
   "metadata": {
    "scrolled": false
   },
   "outputs": [
    {
     "data": {
      "image/png": "[encoded data removed]",
      "text/plain": [
       "<Figure size 864x648 with 1 Axes>"
      ]
     },
     "metadata": {
      "needs_background": "light"
     },
     "output_type": "display_data"
    }
   ],
   "source": [
    "fig = plt.figure(figsize = (12,9))\n",
    "plt.title(\"Cancellation Rates by Lead Time\", fontsize = 16)\n",
    "plt.scatter(lead_time_cr['lead_time'], lead_time_cr['cancel_rate'], color='#C22FBF')\n",
    "\n",
    "plt.ylabel(\"Cancellation Rate\", fontsize = 12)\n",
    "plt.xlabel(\"Lead Time (days)\", fontsize = 12)\n",
    "plt.xticks(np.arange(0, 720, 30))\n",
    "\n",
    "plt.tight_layout()"
   ]
  },
  {
   "cell_type": "markdown",
   "id": "0e24c93d",
   "metadata": {},
   "source": [
    "> We start to see a clear pattern in the bookings made in the 30 days before arrival date. There is a very strong positive correlation between cancellation rate and lead time. This pattern begins to unravel a bit after 30 days and a correlation is harder to make. This may be due to looking at individual days so I want to group the booking lead times into weeks rather that individual days to get a clearer picture."
   ]
  },
  {
   "cell_type": "markdown",
   "id": "28d3274a",
   "metadata": {},
   "source": [
    "### Looking at lead time in number of weeks rather than days"
   ]
  },
  {
   "cell_type": "code",
   "execution_count": 66,
   "id": "156ea7af",
   "metadata": {
    "scrolled": true
   },
   "outputs": [],
   "source": [
    "lead_time_cr['lead_time_week'] = lead_time_cr.lead_time // 7"
   ]
  },
  {
   "cell_type": "code",
   "execution_count": 67,
   "id": "2987c0c7",
   "metadata": {
    "scrolled": false
   },
   "outputs": [
    {
     "data": {
      "text/html": [
       "<div>\n",
       "<style scoped>\n",
       "    .dataframe tbody tr th:only-of-type {\n",
       "        vertical-align: middle;\n",
       "    }\n",
       "\n",
       "    .dataframe tbody tr th {\n",
       "        vertical-align: top;\n",
       "    }\n",
       "\n",
       "    .dataframe thead th {\n",
       "        text-align: right;\n",
       "    }\n",
       "</style>\n",
       "<table border=\"1\" class=\"dataframe\">\n",
       "  <thead>\n",
       "    <tr style=\"text-align: right;\">\n",
       "      <th></th>\n",
       "      <th>lead_time</th>\n",
       "      <th>cancel_rate</th>\n",
       "      <th>num_cancellations</th>\n",
       "      <th>num_instances</th>\n",
       "      <th>feature_perc</th>\n",
       "      <th>lead_time_week</th>\n",
       "    </tr>\n",
       "  </thead>\n",
       "  <tbody>\n",
       "    <tr>\n",
       "      <th>0</th>\n",
       "      <td>0</td>\n",
       "      <td>0.067770</td>\n",
       "      <td>430</td>\n",
       "      <td>6345</td>\n",
       "      <td>0.053145</td>\n",
       "      <td>0</td>\n",
       "    </tr>\n",
       "    <tr>\n",
       "      <th>1</th>\n",
       "      <td>1</td>\n",
       "      <td>0.092775</td>\n",
       "      <td>321</td>\n",
       "      <td>3460</td>\n",
       "      <td>0.028981</td>\n",
       "      <td>0</td>\n",
       "    </tr>\n",
       "    <tr>\n",
       "      <th>2</th>\n",
       "      <td>2</td>\n",
       "      <td>0.102948</td>\n",
       "      <td>213</td>\n",
       "      <td>2069</td>\n",
       "      <td>0.017330</td>\n",
       "      <td>0</td>\n",
       "    </tr>\n",
       "    <tr>\n",
       "      <th>3</th>\n",
       "      <td>3</td>\n",
       "      <td>0.100220</td>\n",
       "      <td>182</td>\n",
       "      <td>1816</td>\n",
       "      <td>0.015211</td>\n",
       "      <td>0</td>\n",
       "    </tr>\n",
       "    <tr>\n",
       "      <th>4</th>\n",
       "      <td>4</td>\n",
       "      <td>0.102624</td>\n",
       "      <td>176</td>\n",
       "      <td>1715</td>\n",
       "      <td>0.014365</td>\n",
       "      <td>0</td>\n",
       "    </tr>\n",
       "    <tr>\n",
       "      <th>...</th>\n",
       "      <td>...</td>\n",
       "      <td>...</td>\n",
       "      <td>...</td>\n",
       "      <td>...</td>\n",
       "      <td>...</td>\n",
       "      <td>...</td>\n",
       "    </tr>\n",
       "    <tr>\n",
       "      <th>474</th>\n",
       "      <td>622</td>\n",
       "      <td>1.000000</td>\n",
       "      <td>17</td>\n",
       "      <td>17</td>\n",
       "      <td>0.000142</td>\n",
       "      <td>88</td>\n",
       "    </tr>\n",
       "    <tr>\n",
       "      <th>475</th>\n",
       "      <td>626</td>\n",
       "      <td>1.000000</td>\n",
       "      <td>30</td>\n",
       "      <td>30</td>\n",
       "      <td>0.000251</td>\n",
       "      <td>89</td>\n",
       "    </tr>\n",
       "    <tr>\n",
       "      <th>476</th>\n",
       "      <td>629</td>\n",
       "      <td>1.000000</td>\n",
       "      <td>17</td>\n",
       "      <td>17</td>\n",
       "      <td>0.000142</td>\n",
       "      <td>89</td>\n",
       "    </tr>\n",
       "    <tr>\n",
       "      <th>477</th>\n",
       "      <td>709</td>\n",
       "      <td>0.000000</td>\n",
       "      <td>0</td>\n",
       "      <td>1</td>\n",
       "      <td>0.000008</td>\n",
       "      <td>101</td>\n",
       "    </tr>\n",
       "    <tr>\n",
       "      <th>478</th>\n",
       "      <td>737</td>\n",
       "      <td>0.000000</td>\n",
       "      <td>0</td>\n",
       "      <td>1</td>\n",
       "      <td>0.000008</td>\n",
       "      <td>105</td>\n",
       "    </tr>\n",
       "  </tbody>\n",
       "</table>\n",
       "<p>479 rows × 6 columns</p>\n",
       "</div>"
      ],
      "text/plain": [
       "     lead_time  cancel_rate  num_cancellations  num_instances  feature_perc  \\\n",
       "0            0     0.067770                430           6345      0.053145   \n",
       "1            1     0.092775                321           3460      0.028981   \n",
       "2            2     0.102948                213           2069      0.017330   \n",
       "3            3     0.100220                182           1816      0.015211   \n",
       "4            4     0.102624                176           1715      0.014365   \n",
       "..         ...          ...                ...            ...           ...   \n",
       "474        622     1.000000                 17             17      0.000142   \n",
       "475        626     1.000000                 30             30      0.000251   \n",
       "476        629     1.000000                 17             17      0.000142   \n",
       "477        709     0.000000                  0              1      0.000008   \n",
       "478        737     0.000000                  0              1      0.000008   \n",
       "\n",
       "     lead_time_week  \n",
       "0                 0  \n",
       "1                 0  \n",
       "2                 0  \n",
       "3                 0  \n",
       "4                 0  \n",
       "..              ...  \n",
       "474              88  \n",
       "475              89  \n",
       "476              89  \n",
       "477             101  \n",
       "478             105  \n",
       "\n",
       "[479 rows x 6 columns]"
      ]
     },
     "execution_count": 67,
     "metadata": {},
     "output_type": "execute_result"
    }
   ],
   "source": [
    "lead_time_cr"
   ]
  },
  {
   "cell_type": "markdown",
   "id": "3b543747",
   "metadata": {},
   "source": [
    "### Calculating cancel_rate by lead time in weeks"
   ]
  },
  {
   "cell_type": "code",
   "execution_count": 68,
   "id": "d14e3818",
   "metadata": {
    "scrolled": true
   },
   "outputs": [],
   "source": [
    "lead_time_week_cr = pd.DataFrame(lead_time_cr.groupby('lead_time_week').num_cancellations.sum() / \\\n",
    "                                 lead_time_cr.groupby('lead_time_week').num_instances.sum())\n"
   ]
  },
  {
   "cell_type": "code",
   "execution_count": 69,
   "id": "c724230f",
   "metadata": {
    "scrolled": false
   },
   "outputs": [
    {
     "data": {
      "text/html": [
       "<div>\n",
       "<style scoped>\n",
       "    .dataframe tbody tr th:only-of-type {\n",
       "        vertical-align: middle;\n",
       "    }\n",
       "\n",
       "    .dataframe tbody tr th {\n",
       "        vertical-align: top;\n",
       "    }\n",
       "\n",
       "    .dataframe thead th {\n",
       "        text-align: right;\n",
       "    }\n",
       "</style>\n",
       "<table border=\"1\" class=\"dataframe\">\n",
       "  <thead>\n",
       "    <tr style=\"text-align: right;\">\n",
       "      <th></th>\n",
       "      <th>0</th>\n",
       "    </tr>\n",
       "    <tr>\n",
       "      <th>lead_time_week</th>\n",
       "      <th></th>\n",
       "    </tr>\n",
       "  </thead>\n",
       "  <tbody>\n",
       "    <tr>\n",
       "      <th>0</th>\n",
       "      <td>0.093945</td>\n",
       "    </tr>\n",
       "    <tr>\n",
       "      <th>1</th>\n",
       "      <td>0.203328</td>\n",
       "    </tr>\n",
       "    <tr>\n",
       "      <th>2</th>\n",
       "      <td>0.277226</td>\n",
       "    </tr>\n",
       "    <tr>\n",
       "      <th>3</th>\n",
       "      <td>0.318260</td>\n",
       "    </tr>\n",
       "    <tr>\n",
       "      <th>4</th>\n",
       "      <td>0.351995</td>\n",
       "    </tr>\n",
       "    <tr>\n",
       "      <th>...</th>\n",
       "      <td>...</td>\n",
       "    </tr>\n",
       "    <tr>\n",
       "      <th>87</th>\n",
       "      <td>1.000000</td>\n",
       "    </tr>\n",
       "    <tr>\n",
       "      <th>88</th>\n",
       "      <td>1.000000</td>\n",
       "    </tr>\n",
       "    <tr>\n",
       "      <th>89</th>\n",
       "      <td>1.000000</td>\n",
       "    </tr>\n",
       "    <tr>\n",
       "      <th>101</th>\n",
       "      <td>0.000000</td>\n",
       "    </tr>\n",
       "    <tr>\n",
       "      <th>105</th>\n",
       "      <td>0.000000</td>\n",
       "    </tr>\n",
       "  </tbody>\n",
       "</table>\n",
       "<p>92 rows × 1 columns</p>\n",
       "</div>"
      ],
      "text/plain": [
       "                       0\n",
       "lead_time_week          \n",
       "0               0.093945\n",
       "1               0.203328\n",
       "2               0.277226\n",
       "3               0.318260\n",
       "4               0.351995\n",
       "...                  ...\n",
       "87              1.000000\n",
       "88              1.000000\n",
       "89              1.000000\n",
       "101             0.000000\n",
       "105             0.000000\n",
       "\n",
       "[92 rows x 1 columns]"
      ]
     },
     "execution_count": 69,
     "metadata": {},
     "output_type": "execute_result"
    }
   ],
   "source": [
    "lead_time_week_cr"
   ]
  },
  {
   "cell_type": "code",
   "execution_count": 70,
   "id": "9df89d03",
   "metadata": {
    "scrolled": true
   },
   "outputs": [],
   "source": [
    "lead_time_week_cr.reset_index(inplace=True)\n",
    "lead_time_week_cr.rename(columns={0:'cancel_rate'}, inplace=True)"
   ]
  },
  {
   "cell_type": "code",
   "execution_count": 71,
   "id": "008b1539",
   "metadata": {
    "scrolled": false
   },
   "outputs": [
    {
     "data": {
      "image/png": "[encoded data removed]",
      "text/plain": [
       "<Figure size 864x648 with 1 Axes>"
      ]
     },
     "metadata": {
      "needs_background": "light"
     },
     "output_type": "display_data"
    }
   ],
   "source": [
    "fig = plt.figure(figsize = (12,9))\n",
    "plt.title(\"Cancellation Rates by Lead Time (weeks)\", fontsize = 16)\n",
    "plt.scatter(lead_time_week_cr['lead_time_week'], lead_time_week_cr['cancel_rate'], color='#EB661B')\n",
    "\n",
    "plt.ylabel(\"Cancellation Rate\", fontsize = 12)\n",
    "plt.xlabel(\"Lead Time (weeks)\")\n",
    "plt.xlim(-1,90)\n",
    "plt.xticks(np.arange(0,90,5))\n",
    "\n",
    "plt.tight_layout()"
   ]
  },
  {
   "cell_type": "markdown",
   "id": "7a986cc6",
   "metadata": {},
   "source": [
    "> Looking at lead time in number of weeks rather than days does give a clearer picture. We can clearly see a sharp rise in cancellation rate as the lead time increases. The increase in cancellation rate starts to level off a bit after about 4 weeks (1 month), but stays relatively high and even continues to rise albeit at a slower pace. "
   ]
  },
  {
   "cell_type": "markdown",
   "id": "97fdf334",
   "metadata": {},
   "source": [
    "### Create a function that takes lead time cancellation rate data and forms scatterplot"
   ]
  },
  {
   "cell_type": "markdown",
   "id": "ed97f88e",
   "metadata": {},
   "source": [
    "> This will save time in the event I divide the data into subsets (specifically city hotel and resort hotel)"
   ]
  },
  {
   "cell_type": "code",
   "execution_count": 72,
   "id": "ac27dbd0",
   "metadata": {
    "scrolled": true
   },
   "outputs": [],
   "source": [
    "def lead_time_week_cr_plot(dataframe):\n",
    "    '''takes in lead time cancellation rates and puts them in weekly bins and \n",
    "       calculates cancellation rate for each bin. The output will then be a \n",
    "       scatterplot of cancellation rates for each week lead time\n",
    "       input: dataframe\n",
    "       output: scatterplot of cancellation rates by lead time in number of weeks'''\n",
    "    lead_time_cr = cancel_rate_grouping(dataframe, feature='lead_time')\n",
    "    # create column with lead time in weeks rather than days\n",
    "    lead_time_cr['lead_time_week'] = lead_time_cr.lead_time // 7\n",
    "    # sum up number of cancellations in week and divide by number of bookings \n",
    "    # in week for cancellation rate\n",
    "    # create dataframe of cancellation rate per lead time in weeks\n",
    "    lead_time_week_cr = pd.DataFrame(lead_time_cr.groupby('lead_time_week').num_cancellations.sum() / \\\n",
    "                                 lead_time_cr.groupby('lead_time_week').num_instances.sum())\n",
    "    lead_time_week_cr.reset_index(inplace=True)\n",
    "    lead_time_week_cr.rename(columns={0:'cancel_rate'}, inplace=True)\n",
    "    \n",
    "    # plot data\n",
    "    fig = plt.figure(figsize = (12,9))\n",
    "    plt.title(\"Cancellation Rates by Lead Time (weeks)\", fontsize = 16)\n",
    "    plt.scatter(lead_time_week_cr['lead_time_week'], lead_time_week_cr['cancel_rate'], color='#EB661B')\n",
    "\n",
    "    plt.ylabel(\"Cancellation Rate\", fontsize = 12)\n",
    "    plt.xlabel(\"Lead Time (weeks)\")\n",
    "    plt.xlim(-1,90)\n",
    "    plt.xticks(np.arange(0,90,5))\n",
    "\n",
    "    plt.tight_layout()"
   ]
  },
  {
   "cell_type": "markdown",
   "id": "68c65bd3",
   "metadata": {},
   "source": [
    "# Cleaning the dataset\n",
    "\n",
    "    1. replace null in children with 0\n",
    "    2. change agent and company to binary classification (1 represents yes; 0 represents no) \n",
    "    3. drop country\n",
    "        -majority of country are PRT because hotels are located in Portugal\n",
    "    4. drop reservation_status and reservation_status_date\n",
    "        - these are further explorations of the cancelations; not necessary for our learning model\n",
    "    5. drop name, email, phone-number, credit_card\n",
    "        - not singling out individuals, we want general population patterns\n",
    "    6. drop arrival_date_year, arrival_date_month_conv\n",
    "    "
   ]
  },
  {
   "cell_type": "markdown",
   "id": "6f98bb19",
   "metadata": {},
   "source": [
    "### Make copy of data to clean"
   ]
  },
  {
   "cell_type": "code",
   "execution_count": 73,
   "id": "27d4608e",
   "metadata": {
    "scrolled": true
   },
   "outputs": [],
   "source": [
    "hb_clean = hotel_bookings.copy()"
   ]
  },
  {
   "cell_type": "markdown",
   "id": "289ae965",
   "metadata": {},
   "source": [
    "## 1. Replace null in children with 0"
   ]
  },
  {
   "cell_type": "code",
   "execution_count": 81,
   "id": "c8f20088",
   "metadata": {
    "scrolled": true
   },
   "outputs": [],
   "source": [
    "hb_clean.children.fillna(0, inplace=True)"
   ]
  },
  {
   "cell_type": "markdown",
   "id": "f68cd3b9",
   "metadata": {},
   "source": [
    "## 2. Change agent and company to binary classification (1 represents yes; 0 represents no) "
   ]
  },
  {
   "cell_type": "markdown",
   "id": "cb03b733",
   "metadata": {},
   "source": [
    "### Replace all ID numbers in agent and company feature with 1"
   ]
  },
  {
   "cell_type": "code",
   "execution_count": 82,
   "id": "567c7352",
   "metadata": {
    "scrolled": true
   },
   "outputs": [
    {
     "data": {
      "text/plain": [
       "6.0"
      ]
     },
     "execution_count": 82,
     "metadata": {},
     "output_type": "execute_result"
    }
   ],
   "source": [
    "# determine smallest ID value for company feature\n",
    "hb_clean.company.min()"
   ]
  },
  {
   "cell_type": "code",
   "execution_count": 83,
   "id": "a868db6b",
   "metadata": {
    "scrolled": true
   },
   "outputs": [],
   "source": [
    "# replaces all values greater than 0 with 1\n",
    "hb_clean.company.mask(hotel_bookings.company > 0, 1, inplace=True)"
   ]
  },
  {
   "cell_type": "code",
   "execution_count": 84,
   "id": "f6976608",
   "metadata": {
    "scrolled": true
   },
   "outputs": [
    {
     "data": {
      "text/plain": [
       "1.0"
      ]
     },
     "execution_count": 84,
     "metadata": {},
     "output_type": "execute_result"
    }
   ],
   "source": [
    "# determine smallest ID value for agent feature\n",
    "hb_clean.agent.min()"
   ]
  },
  {
   "cell_type": "code",
   "execution_count": 85,
   "id": "f19e1c2e",
   "metadata": {
    "scrolled": true
   },
   "outputs": [],
   "source": [
    "hb_clean.agent.mask(hotel_bookings.agent > 0, 1, inplace=True)"
   ]
  },
  {
   "cell_type": "markdown",
   "id": "7ef0644a",
   "metadata": {},
   "source": [
    "### Replace all NaN with 0 for agent and company feature"
   ]
  },
  {
   "cell_type": "code",
   "execution_count": 86,
   "id": "02e6eede",
   "metadata": {
    "scrolled": true
   },
   "outputs": [],
   "source": [
    "hb_clean.agent.fillna(0, inplace=True)\n",
    "hb_clean.company.fillna(0, inplace=True)"
   ]
  },
  {
   "cell_type": "markdown",
   "id": "d912b0bb",
   "metadata": {},
   "source": [
    "## 3., 4., 5., and 6. Drop unnecessary features"
   ]
  },
  {
   "cell_type": "markdown",
   "id": "c7edf708",
   "metadata": {},
   "source": [
    "### Dropping all features unnecessary for my analysis "
   ]
  },
  {
   "cell_type": "code",
   "execution_count": 79,
   "id": "d39a6932",
   "metadata": {
    "scrolled": true
   },
   "outputs": [],
   "source": [
    "hb_clean.drop(['arrival_date_year', 'arrival_date_day_of_month',\n",
    "               'arrival_date_week_number', 'country',\n",
    "               'reservation_status', 'reservation_status_date',\n",
    "               'name', 'email', 'phone-number', 'credit_card',\n",
    "               'arrival_date', 'arrival_date_month_conv'], axis=1, inplace = True)\n",
    "                                           "
   ]
  },
  {
   "cell_type": "code",
   "execution_count": 87,
   "id": "3c6b3b35",
   "metadata": {
    "scrolled": false
   },
   "outputs": [
    {
     "name": "stdout",
     "output_type": "stream",
     "text": [
      "<class 'pandas.core.frame.DataFrame'>\n",
      "RangeIndex: 119390 entries, 0 to 119389\n",
      "Data columns (total 27 columns):\n",
      " #   Column                          Non-Null Count   Dtype  \n",
      "---  ------                          --------------   -----  \n",
      " 0   hotel                           119390 non-null  object \n",
      " 1   is_canceled                     119390 non-null  int64  \n",
      " 2   lead_time                       119390 non-null  int64  \n",
      " 3   arrival_date_month              119390 non-null  object \n",
      " 4   stays_in_weekend_nights         119390 non-null  int64  \n",
      " 5   stays_in_week_nights            119390 non-null  int64  \n",
      " 6   adults                          119390 non-null  int64  \n",
      " 7   children                        119390 non-null  float64\n",
      " 8   babies                          119390 non-null  int64  \n",
      " 9   meal                            119390 non-null  object \n",
      " 10  market_segment                  119390 non-null  object \n",
      " 11  distribution_channel            119390 non-null  object \n",
      " 12  is_repeated_guest               119390 non-null  int64  \n",
      " 13  previous_cancellations          119390 non-null  int64  \n",
      " 14  previous_bookings_not_canceled  119390 non-null  int64  \n",
      " 15  reserved_room_type              119390 non-null  object \n",
      " 16  assigned_room_type              119390 non-null  object \n",
      " 17  booking_changes                 119390 non-null  int64  \n",
      " 18  deposit_type                    119390 non-null  object \n",
      " 19  agent                           119390 non-null  float64\n",
      " 20  company                         119390 non-null  float64\n",
      " 21  days_in_waiting_list            119390 non-null  int64  \n",
      " 22  customer_type                   119390 non-null  object \n",
      " 23  adr                             119390 non-null  float64\n",
      " 24  required_car_parking_spaces     119390 non-null  int64  \n",
      " 25  total_of_special_requests       119390 non-null  int64  \n",
      " 26  stay_length                     119390 non-null  int64  \n",
      "dtypes: float64(4), int64(14), object(9)\n",
      "memory usage: 24.6+ MB\n"
     ]
    }
   ],
   "source": [
    "hb_clean.info()"
   ]
  },
  {
   "cell_type": "markdown",
   "id": "d32879a8",
   "metadata": {},
   "source": [
    "> All columns have 119,390 non-null values and all unnecessary columns have been dropped. The resulting dataframe now has 26 unique features in addition to our outcome variable. This dataset is now clean and ready to begin processing for our learning models."
   ]
  },
  {
   "cell_type": "markdown",
   "id": "8fb05998",
   "metadata": {},
   "source": [
    "# Features processing and learning models:\n",
    "    1. normalize numerical features\n",
    "    2. one-hot encoding of categorical variables\n",
    "    3. split into training and test sets\n",
    "    4. create naive predictor (baseline)\n",
    "    5. set up training and predicting pipeline\n",
    "    "
   ]
  },
  {
   "cell_type": "markdown",
   "id": "a2d93343",
   "metadata": {},
   "source": [
    "# 1. Normalize numerical features"
   ]
  },
  {
   "cell_type": "code",
   "execution_count": 88,
   "id": "9c4147d1",
   "metadata": {
    "scrolled": true
   },
   "outputs": [],
   "source": [
    "# separate outcome from features\n",
    "outcome = hb_clean['is_canceled']\n",
    "features_raw = hb_clean.drop('is_canceled', axis=1)"
   ]
  },
  {
   "cell_type": "code",
   "execution_count": 89,
   "id": "7858a1ea",
   "metadata": {
    "scrolled": true
   },
   "outputs": [
    {
     "data": {
      "text/html": [
       "<div>\n",
       "<style scoped>\n",
       "    .dataframe tbody tr th:only-of-type {\n",
       "        vertical-align: middle;\n",
       "    }\n",
       "\n",
       "    .dataframe tbody tr th {\n",
       "        vertical-align: top;\n",
       "    }\n",
       "\n",
       "    .dataframe thead th {\n",
       "        text-align: right;\n",
       "    }\n",
       "</style>\n",
       "<table border=\"1\" class=\"dataframe\">\n",
       "  <thead>\n",
       "    <tr style=\"text-align: right;\">\n",
       "      <th></th>\n",
       "      <th>hotel</th>\n",
       "      <th>lead_time</th>\n",
       "      <th>arrival_date_month</th>\n",
       "      <th>stays_in_weekend_nights</th>\n",
       "      <th>stays_in_week_nights</th>\n",
       "      <th>adults</th>\n",
       "      <th>children</th>\n",
       "      <th>babies</th>\n",
       "      <th>meal</th>\n",
       "      <th>market_segment</th>\n",
       "      <th>...</th>\n",
       "      <th>booking_changes</th>\n",
       "      <th>deposit_type</th>\n",
       "      <th>agent</th>\n",
       "      <th>company</th>\n",
       "      <th>days_in_waiting_list</th>\n",
       "      <th>customer_type</th>\n",
       "      <th>adr</th>\n",
       "      <th>required_car_parking_spaces</th>\n",
       "      <th>total_of_special_requests</th>\n",
       "      <th>stay_length</th>\n",
       "    </tr>\n",
       "  </thead>\n",
       "  <tbody>\n",
       "    <tr>\n",
       "      <th>0</th>\n",
       "      <td>Resort Hotel</td>\n",
       "      <td>0.464043</td>\n",
       "      <td>July</td>\n",
       "      <td>0.0</td>\n",
       "      <td>0.00</td>\n",
       "      <td>0.036364</td>\n",
       "      <td>0.0</td>\n",
       "      <td>0.0</td>\n",
       "      <td>BB</td>\n",
       "      <td>Direct</td>\n",
       "      <td>...</td>\n",
       "      <td>0.142857</td>\n",
       "      <td>No Deposit</td>\n",
       "      <td>0.0</td>\n",
       "      <td>0.0</td>\n",
       "      <td>0.0</td>\n",
       "      <td>Transient</td>\n",
       "      <td>0.001180</td>\n",
       "      <td>0.0</td>\n",
       "      <td>0.0</td>\n",
       "      <td>0</td>\n",
       "    </tr>\n",
       "    <tr>\n",
       "      <th>1</th>\n",
       "      <td>Resort Hotel</td>\n",
       "      <td>1.000000</td>\n",
       "      <td>July</td>\n",
       "      <td>0.0</td>\n",
       "      <td>0.00</td>\n",
       "      <td>0.036364</td>\n",
       "      <td>0.0</td>\n",
       "      <td>0.0</td>\n",
       "      <td>BB</td>\n",
       "      <td>Direct</td>\n",
       "      <td>...</td>\n",
       "      <td>0.190476</td>\n",
       "      <td>No Deposit</td>\n",
       "      <td>0.0</td>\n",
       "      <td>0.0</td>\n",
       "      <td>0.0</td>\n",
       "      <td>Transient</td>\n",
       "      <td>0.001180</td>\n",
       "      <td>0.0</td>\n",
       "      <td>0.0</td>\n",
       "      <td>0</td>\n",
       "    </tr>\n",
       "    <tr>\n",
       "      <th>2</th>\n",
       "      <td>Resort Hotel</td>\n",
       "      <td>0.009498</td>\n",
       "      <td>July</td>\n",
       "      <td>0.0</td>\n",
       "      <td>0.02</td>\n",
       "      <td>0.018182</td>\n",
       "      <td>0.0</td>\n",
       "      <td>0.0</td>\n",
       "      <td>BB</td>\n",
       "      <td>Direct</td>\n",
       "      <td>...</td>\n",
       "      <td>0.000000</td>\n",
       "      <td>No Deposit</td>\n",
       "      <td>0.0</td>\n",
       "      <td>0.0</td>\n",
       "      <td>0.0</td>\n",
       "      <td>Transient</td>\n",
       "      <td>0.015053</td>\n",
       "      <td>0.0</td>\n",
       "      <td>0.0</td>\n",
       "      <td>1</td>\n",
       "    </tr>\n",
       "    <tr>\n",
       "      <th>3</th>\n",
       "      <td>Resort Hotel</td>\n",
       "      <td>0.017639</td>\n",
       "      <td>July</td>\n",
       "      <td>0.0</td>\n",
       "      <td>0.02</td>\n",
       "      <td>0.018182</td>\n",
       "      <td>0.0</td>\n",
       "      <td>0.0</td>\n",
       "      <td>BB</td>\n",
       "      <td>Corporate</td>\n",
       "      <td>...</td>\n",
       "      <td>0.000000</td>\n",
       "      <td>No Deposit</td>\n",
       "      <td>1.0</td>\n",
       "      <td>0.0</td>\n",
       "      <td>0.0</td>\n",
       "      <td>Transient</td>\n",
       "      <td>0.015053</td>\n",
       "      <td>0.0</td>\n",
       "      <td>0.0</td>\n",
       "      <td>1</td>\n",
       "    </tr>\n",
       "    <tr>\n",
       "      <th>4</th>\n",
       "      <td>Resort Hotel</td>\n",
       "      <td>0.018996</td>\n",
       "      <td>July</td>\n",
       "      <td>0.0</td>\n",
       "      <td>0.04</td>\n",
       "      <td>0.036364</td>\n",
       "      <td>0.0</td>\n",
       "      <td>0.0</td>\n",
       "      <td>BB</td>\n",
       "      <td>Online TA</td>\n",
       "      <td>...</td>\n",
       "      <td>0.000000</td>\n",
       "      <td>No Deposit</td>\n",
       "      <td>1.0</td>\n",
       "      <td>0.0</td>\n",
       "      <td>0.0</td>\n",
       "      <td>Transient</td>\n",
       "      <td>0.019307</td>\n",
       "      <td>0.0</td>\n",
       "      <td>0.2</td>\n",
       "      <td>2</td>\n",
       "    </tr>\n",
       "  </tbody>\n",
       "</table>\n",
       "<p>5 rows × 26 columns</p>\n",
       "</div>"
      ],
      "text/plain": [
       "          hotel  lead_time arrival_date_month  stays_in_weekend_nights  \\\n",
       "0  Resort Hotel   0.464043               July                      0.0   \n",
       "1  Resort Hotel   1.000000               July                      0.0   \n",
       "2  Resort Hotel   0.009498               July                      0.0   \n",
       "3  Resort Hotel   0.017639               July                      0.0   \n",
       "4  Resort Hotel   0.018996               July                      0.0   \n",
       "\n",
       "   stays_in_week_nights    adults  children  babies meal market_segment  ...  \\\n",
       "0                  0.00  0.036364       0.0     0.0   BB         Direct  ...   \n",
       "1                  0.00  0.036364       0.0     0.0   BB         Direct  ...   \n",
       "2                  0.02  0.018182       0.0     0.0   BB         Direct  ...   \n",
       "3                  0.02  0.018182       0.0     0.0   BB      Corporate  ...   \n",
       "4                  0.04  0.036364       0.0     0.0   BB      Online TA  ...   \n",
       "\n",
       "  booking_changes  deposit_type  agent  company days_in_waiting_list  \\\n",
       "0        0.142857    No Deposit    0.0      0.0                  0.0   \n",
       "1        0.190476    No Deposit    0.0      0.0                  0.0   \n",
       "2        0.000000    No Deposit    0.0      0.0                  0.0   \n",
       "3        0.000000    No Deposit    1.0      0.0                  0.0   \n",
       "4        0.000000    No Deposit    1.0      0.0                  0.0   \n",
       "\n",
       "  customer_type       adr required_car_parking_spaces  \\\n",
       "0     Transient  0.001180                         0.0   \n",
       "1     Transient  0.001180                         0.0   \n",
       "2     Transient  0.015053                         0.0   \n",
       "3     Transient  0.015053                         0.0   \n",
       "4     Transient  0.019307                         0.0   \n",
       "\n",
       "   total_of_special_requests  stay_length  \n",
       "0                        0.0            0  \n",
       "1                        0.0            0  \n",
       "2                        0.0            1  \n",
       "3                        0.0            1  \n",
       "4                        0.2            2  \n",
       "\n",
       "[5 rows x 26 columns]"
      ]
     },
     "execution_count": 89,
     "metadata": {},
     "output_type": "execute_result"
    }
   ],
   "source": [
    "# Import scaler\n",
    "from sklearn.preprocessing import MinMaxScaler\n",
    "\n",
    "# Initialize a scaler, then apply it to the features\n",
    "scaler = MinMaxScaler() # default=(0, 1)\n",
    "numerical = ['lead_time', 'stays_in_weekend_nights', 'stays_in_week_nights', \n",
    "             'adults', 'children', 'babies', 'previous_cancellations', \n",
    "             'previous_bookings_not_canceled', 'booking_changes', 'days_in_waiting_list', \n",
    "             'adr', 'required_car_parking_spaces', 'total_of_special_requests']\n",
    "\n",
    "features_scaled = pd.DataFrame(data = features_raw)\n",
    "features_scaled[numerical] = scaler.fit_transform(features_raw[numerical])\n",
    "\n",
    "features_scaled.head(5)"
   ]
  },
  {
   "cell_type": "markdown",
   "id": "d403886a",
   "metadata": {},
   "source": [
    "# 2. One-hot encoding of categorical variables"
   ]
  },
  {
   "cell_type": "code",
   "execution_count": 90,
   "id": "faf094d4",
   "metadata": {
    "scrolled": true
   },
   "outputs": [
    {
     "name": "stdout",
     "output_type": "stream",
     "text": [
      "78 total features after one-hot encoding.\n"
     ]
    }
   ],
   "source": [
    "# One-hot encode the 'features_scaled' data using pandas.get_dummies()\n",
    "features_final = pd.get_dummies(features_scaled)\n",
    "\n",
    "# Print the number of features after one-hot encoding\n",
    "encoded = list(features_final.columns)\n",
    "print(\"{} total features after one-hot encoding.\".format(len(encoded)))"
   ]
  },
  {
   "cell_type": "markdown",
   "id": "786018b1",
   "metadata": {},
   "source": [
    "# 3. Split into training and test sets"
   ]
  },
  {
   "cell_type": "code",
   "execution_count": 91,
   "id": "a169ecbb",
   "metadata": {
    "scrolled": true
   },
   "outputs": [
    {
     "name": "stdout",
     "output_type": "stream",
     "text": [
      "Training set has 95512 samples.\n",
      "Testing set has 23878 samples.\n"
     ]
    }
   ],
   "source": [
    "# Import train_test_split\n",
    "from sklearn.model_selection import train_test_split\n",
    "\n",
    "# Split the 'features' and 'income' data into training and testing sets\n",
    "X_train, X_test, y_train, y_test = train_test_split(features_final, \n",
    "                                                    outcome, \n",
    "                                                    test_size = 0.2, \n",
    "                                                    random_state = 0)\n",
    "\n",
    "# Show the results of the split\n",
    "print(\"Training set has {} samples.\".format(X_train.shape[0]))\n",
    "print(\"Testing set has {} samples.\".format(X_test.shape[0]))"
   ]
  },
  {
   "cell_type": "markdown",
   "id": "db7490c7",
   "metadata": {},
   "source": [
    "# 4. Create naive predictor (baseline)"
   ]
  },
  {
   "cell_type": "code",
   "execution_count": 92,
   "id": "704beb8c",
   "metadata": {
    "scrolled": true
   },
   "outputs": [
    {
     "name": "stdout",
     "output_type": "stream",
     "text": [
      "Naive Predictor: [Accuracy score: 0.3704, F-score: 0.4238]\n"
     ]
    }
   ],
   "source": [
    "'''\n",
    "TP = np.sum(income) # Counting the ones as this is the naive case. Note that 'income' is the 'income_raw' data \n",
    "encoded to numerical values done in the data preprocessing step.\n",
    "FP = income.count() - TP # Specific to the naive case\n",
    "\n",
    "TN = 0 # No predicted negatives in the naive case\n",
    "FN = 0 # No predicted negatives in the naive case\n",
    "'''\n",
    "TP = np.sum(outcome)\n",
    "FP = outcome.count() - TP\n",
    "TN = 0\n",
    "FN = 0\n",
    "\n",
    "# TODO: Calculate accuracy, precision and recall\n",
    "accuracy = (TP + TN)/(TP + TN + FP + FN) # np.sum(income)/income.shape[0]\n",
    "recall = TP / (TP + FN) # np.sum(income)/np.sum(income)\n",
    "precision = TP / (TP + FP) # np.sum(income)/income.shape[0]\n",
    "\n",
    "# TODO: Calculate F-score using the formula above for beta = 0.5 and correct values for precision and recall.\n",
    "beta = 0.5\n",
    "fscore = (1+beta**2)*((precision*recall)/((beta**2)*precision + recall))\n",
    "\n",
    "# Print the results \n",
    "print(\"Naive Predictor: [Accuracy score: {:.4f}, F-score: {:.4f}]\".format(accuracy, fscore))"
   ]
  },
  {
   "cell_type": "markdown",
   "id": "d0d4fdb7",
   "metadata": {},
   "source": [
    "### Confirming accuracy is represented as the percentage of canceled outcomes"
   ]
  },
  {
   "cell_type": "code",
   "execution_count": 156,
   "id": "7c9f1f5f",
   "metadata": {},
   "outputs": [
    {
     "data": {
      "text/plain": [
       "0.37041628277075134"
      ]
     },
     "execution_count": 156,
     "metadata": {},
     "output_type": "execute_result"
    }
   ],
   "source": [
    "hotel_bookings.is_canceled.sum()/hotel_bookings.shape[0]"
   ]
  },
  {
   "cell_type": "code",
   "execution_count": 93,
   "id": "4fe0d2f9",
   "metadata": {
    "scrolled": true
   },
   "outputs": [],
   "source": [
    "# Import two metrics from sklearn - fbeta_score and accuracy_score\n",
    "from sklearn.metrics import fbeta_score\n",
    "from sklearn.metrics import accuracy_score\n",
    "\n",
    "def train_predict(learner, sample_size, X_train, y_train, X_test, y_test): \n",
    "    '''\n",
    "    inputs:\n",
    "       - learner: the learning algorithm to be trained and predicted on\n",
    "       - sample_size: the size of samples (number) to be drawn from training set\n",
    "       - X_train: features training set\n",
    "       - y_train: income training set\n",
    "       - X_test: features testing set\n",
    "       - y_test: income testing set\n",
    "    '''\n",
    "    \n",
    "    results = {}\n",
    "    \n",
    "    # Fit the learner to the training data using slicing with 'sample_size' using .fit(training_features[:], training_labels[:])\n",
    "    start = time() # Get start time\n",
    "    learner = learner.fit(X_train[:sample_size], y_train[:sample_size])\n",
    "    end = time() # Get end time\n",
    "    \n",
    "    # Calculate the training time\n",
    "    results['train_time'] = end - start\n",
    "        \n",
    "    # Get the predictions on the test set(X_test),\n",
    "    #       then get predictions on the first 300 training samples(X_train) using .predict()\n",
    "    start = time() # Get start time\n",
    "    predictions_test = learner.predict(X_test)\n",
    "    predictions_train = learner.predict(X_train[:300])\n",
    "    end = time() # Get end time\n",
    "    \n",
    "    # Calculate the total prediction time\n",
    "    results['pred_time'] = end - start\n",
    "            \n",
    "    # Compute accuracy on the first 300 training samples which is y_train[:300]\n",
    "    results['acc_train'] = accuracy_score(y_train[:300], predictions_train)\n",
    "        \n",
    "    # Compute accuracy on test set using accuracy_score()\n",
    "    results['acc_test'] = accuracy_score(y_test, predictions_test)\n",
    "    \n",
    "    # Compute F-score on the the first 300 training samples using fbeta_score()\n",
    "    results['f_train'] = fbeta_score(y_train[:300], predictions_train, beta=1)\n",
    "        \n",
    "    # Compute F-score on the test set which is y_test\n",
    "    results['f_test'] = fbeta_score(y_test, predictions_test, beta=0.5)\n",
    "       \n",
    "    # Success\n",
    "    print(\"{} trained on {} samples.\".format(learner.__class__.__name__, sample_size))\n",
    "        \n",
    "    # Return the results\n",
    "    return results"
   ]
  },
  {
   "cell_type": "code",
   "execution_count": 94,
   "id": "88a71a92",
   "metadata": {
    "scrolled": false
   },
   "outputs": [
    {
     "name": "stdout",
     "output_type": "stream",
     "text": [
      "GradientBoostingClassifier trained on 955 samples.\n",
      "GradientBoostingClassifier trained on 9551 samples.\n",
      "GradientBoostingClassifier trained on 95512 samples.\n",
      "RandomForestClassifier trained on 955 samples.\n",
      "RandomForestClassifier trained on 9551 samples.\n",
      "RandomForestClassifier trained on 95512 samples.\n",
      "AdaBoostClassifier trained on 955 samples.\n",
      "AdaBoostClassifier trained on 9551 samples.\n",
      "AdaBoostClassifier trained on 95512 samples.\n"
     ]
    },
    {
     "name": "stderr",
     "output_type": "stream",
     "text": [
      "/Users/aaronbuck/Desktop/Capstone_Project_Files/helper_functions.py:94: UserWarning: Tight layout not applied. tight_layout cannot make axes width small enough to accommodate all axes decorations\n",
      "  pl.tight_layout()\n"
     ]
    },
    {
     "data": {
      "image/png": "[encoded data removed]",
      "text/plain": [
       "<Figure size 792x576 with 6 Axes>"
      ]
     },
     "metadata": {
      "needs_background": "light"
     },
     "output_type": "display_data"
    }
   ],
   "source": [
    "# Initialize the three models\n",
    "clf_A = GradientBoostingClassifier()\n",
    "clf_B = RandomForestClassifier()\n",
    "clf_C = AdaBoostClassifier()\n",
    "\n",
    "# Calculate the number of samples for 1%, 10%, and 100% of the training data\n",
    "samples_100 = len(y_train)\n",
    "samples_10 = int(0.1*samples_100)\n",
    "samples_1 = int(0.01*samples_100)\n",
    "\n",
    "# Collect results on the learners\n",
    "results = {}\n",
    "for clf in [clf_A, clf_B, clf_C]:\n",
    "    clf_name = clf.__class__.__name__\n",
    "    results[clf_name] = {}\n",
    "    for i, samples in enumerate([samples_1, samples_10, samples_100]):\n",
    "        results[clf_name][i] = \\\n",
    "        train_predict(clf, samples, X_train, y_train, X_test, y_test)\n",
    "\n",
    "# Run metrics visualization for the three supervised learning models chosen\n",
    "vs.evaluate(results, accuracy, fscore)"
   ]
  },
  {
   "cell_type": "markdown",
   "id": "14033541",
   "metadata": {},
   "source": [
    "# Optimization of the best fit model (Random Forest)"
   ]
  },
  {
   "cell_type": "code",
   "execution_count": 101,
   "id": "7ee4d7b3",
   "metadata": {},
   "outputs": [
    {
     "name": "stdout",
     "output_type": "stream",
     "text": [
      "Unoptimized model\n",
      "------\n",
      "Accuracy score on testing data: 0.8663\n",
      "F-score on testing data: 0.8403\n",
      "\n",
      "Optimized Model\n",
      "------\n",
      "Final accuracy score on the testing data: 0.8665\n",
      "Final F-score on the testing data: 0.8416\n"
     ]
    }
   ],
   "source": [
    "# TODO: Import 'GridSearchCV', 'make_scorer', and any other necessary libraries\n",
    "from sklearn.model_selection import GridSearchCV\n",
    "from sklearn.metrics import make_scorer\n",
    "\n",
    "# TODO: Initialize the classifier\n",
    "clf = RandomForestClassifier()\n",
    "\n",
    "# TODO: Create the parameters list you wish to tune, using a dictionary if needed.\n",
    "# HINT: parameters = {'parameter_1': [value1, value2], 'parameter_2': [value1, value2]}\n",
    "parameters = {'max_depth': [None,1,3,5,7,9]}\n",
    "#               'max_features': range(1,11),  \n",
    "#               'min_samples_split': range(2, 5),\n",
    "#               'min_samples_leaf': [1,3,5]}\n",
    "\n",
    "# TODO: Make an fbeta_score scoring object using make_scorer()\n",
    "scorer = make_scorer(fbeta_score, beta=0.5)\n",
    "\n",
    "# TODO: Perform grid search on the classifier using 'scorer' as the scoring method using GridSearchCV()\n",
    "grid_obj = GridSearchCV(clf, scoring=scorer, param_grid=parameters)\n",
    "\n",
    "# TODO: Fit the grid search object to the training data and find the optimal parameters using fit()\n",
    "grid_fit = grid_obj.fit(X_train, y_train)\n",
    "\n",
    "# Get the estimator\n",
    "best_clf = grid_fit.best_estimator_\n",
    "\n",
    "# Make predictions using the unoptimized and model\n",
    "predictions = (clf.fit(X_train, y_train)).predict(X_test)\n",
    "best_predictions = best_clf.predict(X_test)\n",
    "\n",
    "# Report the before-and-afterscores\n",
    "print(\"Unoptimized model\\n------\")\n",
    "print(\"Accuracy score on testing data: {:.4f}\".format(accuracy_score(y_test, predictions)))\n",
    "print(\"F-score on testing data: {:.4f}\".format(fbeta_score(y_test, predictions, beta = 0.5)))\n",
    "print(\"\\nOptimized Model\\n------\")\n",
    "print(\"Final accuracy score on the testing data: {:.4f}\".format(accuracy_score(y_test, best_predictions)))\n",
    "print(\"Final F-score on the testing data: {:.4f}\".format(fbeta_score(y_test, best_predictions, beta = 0.5)))"
   ]
  },
  {
   "cell_type": "markdown",
   "id": "a7bdd14a",
   "metadata": {},
   "source": [
    "> The time needed for this optimization process to take place along with the very insignificant improvements made rendered the process useless. The best fit model will be the original model produced."
   ]
  },
  {
   "cell_type": "code",
   "execution_count": 157,
   "id": "8f81318d",
   "metadata": {
    "scrolled": false
   },
   "outputs": [
    {
     "data": {
      "image/png": "[encoded data removed]",
      "text/plain": [
       "<Figure size 864x648 with 1 Axes>"
      ]
     },
     "metadata": {
      "needs_background": "light"
     },
     "output_type": "display_data"
    }
   ],
   "source": [
    "# Import a supervised learning model that has 'feature_importances_'\n",
    "# Reusing already imported model\n",
    "clf = RandomForestClassifier()\n",
    "\n",
    "# Train the supervised model on the training set using .fit(X_train, y_train)\n",
    "model = clf.fit(X_train, y_train)\n",
    "\n",
    "# Extract the feature importances using .feature_importances_ \n",
    "importances = model.feature_importances_\n",
    "\n",
    "# Plot\n",
    "vs.feature_plot(importances, X_train, y_train);"
   ]
  },
  {
   "cell_type": "markdown",
   "id": "7d03149e",
   "metadata": {},
   "source": [
    "> We can see the five leading predictors of cancellations in our best fit model are: \n",
    ">    1. lead time \n",
    ">    2. ADR \n",
    ">    3. deposit type (No deposit) \n",
    ">    4. total of special requests \n",
    ">    5. deposit type (Non Refund)\n",
    "> \n",
    "> Further analysis will focus on the lead time feature"
   ]
  },
  {
   "cell_type": "code",
   "execution_count": 158,
   "id": "0900e0b7",
   "metadata": {
    "scrolled": false
   },
   "outputs": [
    {
     "data": {
      "image/png": "[encoded data removed]",
      "text/plain": [
       "<Figure size 864x648 with 1 Axes>"
      ]
     },
     "metadata": {
      "needs_background": "light"
     },
     "output_type": "display_data"
    }
   ],
   "source": [
    "# TODO: Import a supervised learning model that has 'feature_importances_'\n",
    "# Reusing already imported model\n",
    "clf = AdaBoostClassifier()\n",
    "\n",
    "# TODO: Train the supervised model on the training set using .fit(X_train, y_train)\n",
    "model = clf.fit(X_train, y_train)\n",
    "\n",
    "# TODO: Extract the feature importances using .feature_importances_ \n",
    "importances = model.feature_importances_\n",
    "\n",
    "# Plot\n",
    "vs.feature_plot(importances, X_train, y_train);"
   ]
  },
  {
   "cell_type": "code",
   "execution_count": 159,
   "id": "9391f7bc",
   "metadata": {
    "scrolled": false
   },
   "outputs": [
    {
     "data": {
      "image/png": "[encoded data removed]",
      "text/plain": [
       "<Figure size 864x648 with 1 Axes>"
      ]
     },
     "metadata": {
      "needs_background": "light"
     },
     "output_type": "display_data"
    }
   ],
   "source": [
    "vs.top_five_features(GradientBoostingClassifier(), X_train, y_train)"
   ]
  },
  {
   "cell_type": "markdown",
   "id": "378c5062",
   "metadata": {},
   "source": [
    "# Creating subsets of data (city and resort) and cleaning"
   ]
  },
  {
   "cell_type": "code",
   "execution_count": 160,
   "id": "2996abc1",
   "metadata": {},
   "outputs": [],
   "source": [
    "city_bookings_clean = hb_clean.loc[hb_clean.hotel == 'City Hotel']"
   ]
  },
  {
   "cell_type": "code",
   "execution_count": 161,
   "id": "276fbfc7",
   "metadata": {},
   "outputs": [],
   "source": [
    "resort_bookings_clean = hb_clean.loc[hb_clean.hotel == 'Resort Hotel']"
   ]
  },
  {
   "cell_type": "code",
   "execution_count": 162,
   "id": "9b659a6a",
   "metadata": {},
   "outputs": [
    {
     "data": {
      "image/png": "[encoded data removed]",
      "text/plain": [
       "<Figure size 864x648 with 1 Axes>"
      ]
     },
     "metadata": {
      "needs_background": "light"
     },
     "output_type": "display_data"
    }
   ],
   "source": [
    "lead_time_week_cr_plot(city_bookings)"
   ]
  },
  {
   "cell_type": "markdown",
   "id": "e53774a3",
   "metadata": {},
   "source": [
    "> Cancellation rate for city hotels continues to increases with lead time"
   ]
  },
  {
   "cell_type": "code",
   "execution_count": 163,
   "id": "d28d5f66",
   "metadata": {},
   "outputs": [
    {
     "data": {
      "image/png": "[encoded data removed]",
      "text/plain": [
       "<Figure size 864x648 with 1 Axes>"
      ]
     },
     "metadata": {
      "needs_background": "light"
     },
     "output_type": "display_data"
    }
   ],
   "source": [
    "lead_time_week_cr_plot(resort_bookings)"
   ]
  },
  {
   "cell_type": "markdown",
   "id": "0b52f3b2",
   "metadata": {},
   "source": [
    "> Cancellation rates for resort hotels tend to level off with increasing lead time. This suggests people tend to have a stronger commitment when booking resorts over city hotels."
   ]
  },
  {
   "cell_type": "markdown",
   "id": "473a83b1",
   "metadata": {},
   "source": [
    "# Feature processing and learning model application for city hotel data"
   ]
  },
  {
   "cell_type": "code",
   "execution_count": 164,
   "id": "92ec8d1e",
   "metadata": {},
   "outputs": [
    {
     "name": "stdout",
     "output_type": "stream",
     "text": [
      "71 total features after one-hot encoding.\n",
      "['lead_time', 'stays_in_weekend_nights', 'stays_in_week_nights', 'adults', 'children', 'babies', 'is_repeated_guest', 'previous_cancellations', 'previous_bookings_not_canceled', 'booking_changes', 'agent', 'company', 'days_in_waiting_list', 'adr', 'required_car_parking_spaces', 'total_of_special_requests', 'stay_length', 'hotel_City Hotel', 'arrival_date_month_April', 'arrival_date_month_August', 'arrival_date_month_December', 'arrival_date_month_February', 'arrival_date_month_January', 'arrival_date_month_July', 'arrival_date_month_June', 'arrival_date_month_March', 'arrival_date_month_May', 'arrival_date_month_November', 'arrival_date_month_October', 'arrival_date_month_September', 'meal_BB', 'meal_FB', 'meal_HB', 'meal_SC', 'market_segment_Aviation', 'market_segment_Complementary', 'market_segment_Corporate', 'market_segment_Direct', 'market_segment_Groups', 'market_segment_Offline TA/TO', 'market_segment_Online TA', 'market_segment_Undefined', 'distribution_channel_Corporate', 'distribution_channel_Direct', 'distribution_channel_GDS', 'distribution_channel_TA/TO', 'distribution_channel_Undefined', 'reserved_room_type_A', 'reserved_room_type_B', 'reserved_room_type_C', 'reserved_room_type_D', 'reserved_room_type_E', 'reserved_room_type_F', 'reserved_room_type_G', 'reserved_room_type_P', 'assigned_room_type_A', 'assigned_room_type_B', 'assigned_room_type_C', 'assigned_room_type_D', 'assigned_room_type_E', 'assigned_room_type_F', 'assigned_room_type_G', 'assigned_room_type_K', 'assigned_room_type_P', 'deposit_type_No Deposit', 'deposit_type_Non Refund', 'deposit_type_Refundable', 'customer_type_Contract', 'customer_type_Group', 'customer_type_Transient', 'customer_type_Transient-Party']\n"
     ]
    }
   ],
   "source": [
    "features_final, outcome = vs.feature_processing(city_bookings_clean)"
   ]
  },
  {
   "cell_type": "code",
   "execution_count": 165,
   "id": "03802814",
   "metadata": {
    "scrolled": true
   },
   "outputs": [
    {
     "name": "stdout",
     "output_type": "stream",
     "text": [
      "Training set has 63464 samples.\n",
      "Testing set has 15866 samples.\n",
      "Naive Predictor: [Accuracy score: 0.4173, F-score: 0.4723]\n"
     ]
    }
   ],
   "source": [
    "X_train, X_test, y_train, y_test, accuracy, fscore = vs.train_test_baseline(features_final, outcome);"
   ]
  },
  {
   "cell_type": "code",
   "execution_count": 166,
   "id": "0696c2b5",
   "metadata": {
    "scrolled": false
   },
   "outputs": [
    {
     "name": "stdout",
     "output_type": "stream",
     "text": [
      "GradientBoostingClassifier trained on 634 samples.\n",
      "GradientBoostingClassifier trained on 6346 samples.\n",
      "GradientBoostingClassifier trained on 63464 samples.\n",
      "RandomForestClassifier trained on 634 samples.\n",
      "RandomForestClassifier trained on 6346 samples.\n",
      "RandomForestClassifier trained on 63464 samples.\n",
      "AdaBoostClassifier trained on 634 samples.\n",
      "AdaBoostClassifier trained on 6346 samples.\n",
      "AdaBoostClassifier trained on 63464 samples.\n"
     ]
    },
    {
     "name": "stderr",
     "output_type": "stream",
     "text": [
      "/Users/aaronbuck/Desktop/Capstone_Project_Files/helper_functions.py:94: UserWarning: Tight layout not applied. tight_layout cannot make axes width small enough to accommodate all axes decorations\n",
      "  pl.tight_layout()\n"
     ]
    },
    {
     "data": {
      "image/png": "[encoded data removed]",
      "text/plain": [
       "<Figure size 792x576 with 6 Axes>"
      ]
     },
     "metadata": {
      "needs_background": "light"
     },
     "output_type": "display_data"
    }
   ],
   "source": [
    "classifiers = [GradientBoostingClassifier(), RandomForestClassifier(), AdaBoostClassifier()]\n",
    "\n",
    "vs.learning_model_comparison(classifiers, X_train, X_test, y_train, y_test, accuracy, fscore);"
   ]
  },
  {
   "cell_type": "code",
   "execution_count": 167,
   "id": "38471a54",
   "metadata": {
    "scrolled": false
   },
   "outputs": [
    {
     "data": {
      "image/png": "[encoded data removed]",
      "text/plain": [
       "<Figure size 864x648 with 1 Axes>"
      ]
     },
     "metadata": {
      "needs_background": "light"
     },
     "output_type": "display_data"
    }
   ],
   "source": [
    "vs.top_five_features(RandomForestClassifier(), X_train, y_train)"
   ]
  },
  {
   "cell_type": "markdown",
   "id": "49e98bac",
   "metadata": {},
   "source": [
    "# Feature processing and learning model application for resort hotel data"
   ]
  },
  {
   "cell_type": "code",
   "execution_count": 168,
   "id": "fdcdc032",
   "metadata": {},
   "outputs": [
    {
     "name": "stdout",
     "output_type": "stream",
     "text": [
      "73 total features after one-hot encoding.\n",
      "['lead_time', 'stays_in_weekend_nights', 'stays_in_week_nights', 'adults', 'children', 'babies', 'is_repeated_guest', 'previous_cancellations', 'previous_bookings_not_canceled', 'booking_changes', 'agent', 'company', 'days_in_waiting_list', 'adr', 'required_car_parking_spaces', 'total_of_special_requests', 'stay_length', 'hotel_Resort Hotel', 'arrival_date_month_April', 'arrival_date_month_August', 'arrival_date_month_December', 'arrival_date_month_February', 'arrival_date_month_January', 'arrival_date_month_July', 'arrival_date_month_June', 'arrival_date_month_March', 'arrival_date_month_May', 'arrival_date_month_November', 'arrival_date_month_October', 'arrival_date_month_September', 'meal_BB', 'meal_FB', 'meal_HB', 'meal_SC', 'meal_Undefined', 'market_segment_Complementary', 'market_segment_Corporate', 'market_segment_Direct', 'market_segment_Groups', 'market_segment_Offline TA/TO', 'market_segment_Online TA', 'distribution_channel_Corporate', 'distribution_channel_Direct', 'distribution_channel_TA/TO', 'distribution_channel_Undefined', 'reserved_room_type_A', 'reserved_room_type_B', 'reserved_room_type_C', 'reserved_room_type_D', 'reserved_room_type_E', 'reserved_room_type_F', 'reserved_room_type_G', 'reserved_room_type_H', 'reserved_room_type_L', 'reserved_room_type_P', 'assigned_room_type_A', 'assigned_room_type_B', 'assigned_room_type_C', 'assigned_room_type_D', 'assigned_room_type_E', 'assigned_room_type_F', 'assigned_room_type_G', 'assigned_room_type_H', 'assigned_room_type_I', 'assigned_room_type_L', 'assigned_room_type_P', 'deposit_type_No Deposit', 'deposit_type_Non Refund', 'deposit_type_Refundable', 'customer_type_Contract', 'customer_type_Group', 'customer_type_Transient', 'customer_type_Transient-Party']\n"
     ]
    }
   ],
   "source": [
    "features_final, outcome = vs.feature_processing(resort_bookings_clean)"
   ]
  },
  {
   "cell_type": "code",
   "execution_count": 169,
   "id": "0e78ee00",
   "metadata": {
    "scrolled": true
   },
   "outputs": [
    {
     "name": "stdout",
     "output_type": "stream",
     "text": [
      "Training set has 32048 samples.\n",
      "Testing set has 8012 samples.\n",
      "Naive Predictor: [Accuracy score: 0.2776, F-score: 0.3245]\n"
     ]
    }
   ],
   "source": [
    "X_train, X_test, y_train, y_test, accuracy, fscore = vs.train_test_baseline(features_final, outcome);"
   ]
  },
  {
   "cell_type": "code",
   "execution_count": 170,
   "id": "a3681a17",
   "metadata": {
    "scrolled": false
   },
   "outputs": [
    {
     "name": "stdout",
     "output_type": "stream",
     "text": [
      "GradientBoostingClassifier trained on 320 samples.\n",
      "GradientBoostingClassifier trained on 3204 samples.\n",
      "GradientBoostingClassifier trained on 32048 samples.\n",
      "RandomForestClassifier trained on 320 samples.\n",
      "RandomForestClassifier trained on 3204 samples.\n",
      "RandomForestClassifier trained on 32048 samples.\n",
      "AdaBoostClassifier trained on 320 samples.\n",
      "AdaBoostClassifier trained on 3204 samples.\n",
      "AdaBoostClassifier trained on 32048 samples.\n"
     ]
    },
    {
     "name": "stderr",
     "output_type": "stream",
     "text": [
      "/Users/aaronbuck/Desktop/Capstone_Project_Files/helper_functions.py:94: UserWarning: Tight layout not applied. tight_layout cannot make axes width small enough to accommodate all axes decorations\n",
      "  pl.tight_layout()\n"
     ]
    },
    {
     "data": {
      "image/png": "[encoded data removed]",
      "text/plain": [
       "<Figure size 792x576 with 6 Axes>"
      ]
     },
     "metadata": {
      "needs_background": "light"
     },
     "output_type": "display_data"
    }
   ],
   "source": [
    "classifiers = [GradientBoostingClassifier(), RandomForestClassifier(), AdaBoostClassifier()]\n",
    "\n",
    "vs.learning_model_comparison(classifiers, X_train, X_test, y_train, y_test, accuracy, fscore);"
   ]
  },
  {
   "cell_type": "code",
   "execution_count": 171,
   "id": "3b6e9aba",
   "metadata": {
    "scrolled": false
   },
   "outputs": [
    {
     "data": {
      "image/png": "[encoded data removed]",
      "text/plain": [
       "<Figure size 864x648 with 1 Axes>"
      ]
     },
     "metadata": {
      "needs_background": "light"
     },
     "output_type": "display_data"
    }
   ],
   "source": [
    "vs.top_five_features(RandomForestClassifier(), X_train, y_train)"
   ]
  },
  {
   "cell_type": "markdown",
   "id": "3ddbc08e",
   "metadata": {},
   "source": [
    "### Calculating rebook_time (time from cancellation to arrival_date)"
   ]
  },
  {
   "cell_type": "code",
   "execution_count": 172,
   "id": "041281ae",
   "metadata": {
    "scrolled": true
   },
   "outputs": [],
   "source": [
    "# want to create a copy of data rather than a view using .copy() \n",
    "# see: https://stackoverflow.com/questions/45615922/settingwithcopywarning-using-pandas-apply\n",
    "hotel_cancellations = hotel_bookings.loc[hotel_bookings.is_canceled == 1].copy()"
   ]
  },
  {
   "cell_type": "code",
   "execution_count": 173,
   "id": "c919868d",
   "metadata": {},
   "outputs": [],
   "source": [
    "# convert dates in reservation_status_date from str to datetime\n",
    "hotel_cancellations.loc[:,'reservation_status_date'] = hotel_cancellations.reservation_status_date.apply(lambda x: pd.to_datetime(x))"
   ]
  },
  {
   "cell_type": "code",
   "execution_count": 174,
   "id": "7838bdca",
   "metadata": {
    "scrolled": true
   },
   "outputs": [],
   "source": [
    "# create new column rebook_time which is difference between cancellation date (reservation_status_date) and arrival_date\n",
    "# for more info https://www.geeksforgeeks.org/pandas-number-of-months-between-two-dates/\n",
    "hotel_cancellations = hotel_cancellations.assign(rebook_time=lambda x: \\\n",
    "                                                 ((x['arrival_date'] - x['reservation_status_date']) / \\\n",
    "                                                 np.timedelta64(1, 'D')))"
   ]
  },
  {
   "cell_type": "code",
   "execution_count": 175,
   "id": "54c163e6",
   "metadata": {
    "scrolled": true
   },
   "outputs": [],
   "source": [
    "hotel_cancellations.rebook_time = hotel_cancellations.rebook_time.astype(int)"
   ]
  },
  {
   "cell_type": "code",
   "execution_count": 176,
   "id": "ad3f2a93",
   "metadata": {
    "scrolled": true
   },
   "outputs": [
    {
     "data": {
      "text/html": [
       "<div>\n",
       "<style scoped>\n",
       "    .dataframe tbody tr th:only-of-type {\n",
       "        vertical-align: middle;\n",
       "    }\n",
       "\n",
       "    .dataframe tbody tr th {\n",
       "        vertical-align: top;\n",
       "    }\n",
       "\n",
       "    .dataframe thead th {\n",
       "        text-align: right;\n",
       "    }\n",
       "</style>\n",
       "<table border=\"1\" class=\"dataframe\">\n",
       "  <thead>\n",
       "    <tr style=\"text-align: right;\">\n",
       "      <th></th>\n",
       "      <th>reservation_status</th>\n",
       "      <th>reservation_status_date</th>\n",
       "      <th>is_canceled</th>\n",
       "      <th>arrival_date</th>\n",
       "      <th>rebook_time</th>\n",
       "      <th>lead_time</th>\n",
       "    </tr>\n",
       "  </thead>\n",
       "  <tbody>\n",
       "    <tr>\n",
       "      <th>43088</th>\n",
       "      <td>Canceled</td>\n",
       "      <td>2015-08-22</td>\n",
       "      <td>1</td>\n",
       "      <td>2015-09-14</td>\n",
       "      <td>23</td>\n",
       "      <td>38</td>\n",
       "    </tr>\n",
       "    <tr>\n",
       "      <th>58563</th>\n",
       "      <td>Canceled</td>\n",
       "      <td>2016-09-06</td>\n",
       "      <td>1</td>\n",
       "      <td>2016-10-13</td>\n",
       "      <td>37</td>\n",
       "      <td>37</td>\n",
       "    </tr>\n",
       "    <tr>\n",
       "      <th>12924</th>\n",
       "      <td>Canceled</td>\n",
       "      <td>2017-05-10</td>\n",
       "      <td>1</td>\n",
       "      <td>2017-07-23</td>\n",
       "      <td>74</td>\n",
       "      <td>84</td>\n",
       "    </tr>\n",
       "    <tr>\n",
       "      <th>81907</th>\n",
       "      <td>Canceled</td>\n",
       "      <td>2015-12-18</td>\n",
       "      <td>1</td>\n",
       "      <td>2016-05-05</td>\n",
       "      <td>139</td>\n",
       "      <td>181</td>\n",
       "    </tr>\n",
       "    <tr>\n",
       "      <th>13758</th>\n",
       "      <td>Canceled</td>\n",
       "      <td>2017-07-01</td>\n",
       "      <td>1</td>\n",
       "      <td>2017-08-28</td>\n",
       "      <td>58</td>\n",
       "      <td>59</td>\n",
       "    </tr>\n",
       "    <tr>\n",
       "      <th>61803</th>\n",
       "      <td>Canceled</td>\n",
       "      <td>2016-10-02</td>\n",
       "      <td>1</td>\n",
       "      <td>2016-12-26</td>\n",
       "      <td>85</td>\n",
       "      <td>257</td>\n",
       "    </tr>\n",
       "    <tr>\n",
       "      <th>73911</th>\n",
       "      <td>Canceled</td>\n",
       "      <td>2015-01-01</td>\n",
       "      <td>1</td>\n",
       "      <td>2015-07-02</td>\n",
       "      <td>182</td>\n",
       "      <td>258</td>\n",
       "    </tr>\n",
       "    <tr>\n",
       "      <th>43406</th>\n",
       "      <td>Canceled</td>\n",
       "      <td>2015-07-06</td>\n",
       "      <td>1</td>\n",
       "      <td>2015-09-18</td>\n",
       "      <td>74</td>\n",
       "      <td>74</td>\n",
       "    </tr>\n",
       "    <tr>\n",
       "      <th>47991</th>\n",
       "      <td>Canceled</td>\n",
       "      <td>2016-01-11</td>\n",
       "      <td>1</td>\n",
       "      <td>2016-03-11</td>\n",
       "      <td>60</td>\n",
       "      <td>62</td>\n",
       "    </tr>\n",
       "    <tr>\n",
       "      <th>12775</th>\n",
       "      <td>Canceled</td>\n",
       "      <td>2017-03-20</td>\n",
       "      <td>1</td>\n",
       "      <td>2017-07-16</td>\n",
       "      <td>118</td>\n",
       "      <td>180</td>\n",
       "    </tr>\n",
       "  </tbody>\n",
       "</table>\n",
       "</div>"
      ],
      "text/plain": [
       "      reservation_status reservation_status_date  is_canceled arrival_date  \\\n",
       "43088           Canceled              2015-08-22            1   2015-09-14   \n",
       "58563           Canceled              2016-09-06            1   2016-10-13   \n",
       "12924           Canceled              2017-05-10            1   2017-07-23   \n",
       "81907           Canceled              2015-12-18            1   2016-05-05   \n",
       "13758           Canceled              2017-07-01            1   2017-08-28   \n",
       "61803           Canceled              2016-10-02            1   2016-12-26   \n",
       "73911           Canceled              2015-01-01            1   2015-07-02   \n",
       "43406           Canceled              2015-07-06            1   2015-09-18   \n",
       "47991           Canceled              2016-01-11            1   2016-03-11   \n",
       "12775           Canceled              2017-03-20            1   2017-07-16   \n",
       "\n",
       "       rebook_time  lead_time  \n",
       "43088           23         38  \n",
       "58563           37         37  \n",
       "12924           74         84  \n",
       "81907          139        181  \n",
       "13758           58         59  \n",
       "61803           85        257  \n",
       "73911          182        258  \n",
       "43406           74         74  \n",
       "47991           60         62  \n",
       "12775          118        180  "
      ]
     },
     "execution_count": 176,
     "metadata": {},
     "output_type": "execute_result"
    }
   ],
   "source": [
    "hotel_cancellations[['reservation_status', 'reservation_status_date', \n",
    "                     'is_canceled', 'arrival_date', 'rebook_time', 'lead_time']].sample(10)"
   ]
  },
  {
   "cell_type": "code",
   "execution_count": 177,
   "id": "99bb8fcf",
   "metadata": {},
   "outputs": [
    {
     "name": "stdout",
     "output_type": "stream",
     "text": [
      "Number of cancellations between 0 and 30: 15470\n",
      "Number of cancellations between 30 and 45: 4609\n",
      "Number of cancellations between 45 and 60: 3463\n",
      "Number of cancellations between 60 and 90: 5033\n",
      "Number of cancellations between 90 and 120: 3708\n",
      "Number of cancellations between 120 and 150: 2971\n",
      "Number of cancellations between 150 and 1000: 8970\n"
     ]
    }
   ],
   "source": [
    "# capturing number of cancellations between day numbers\n",
    "values = []\n",
    "days = [0, 30, 45, 60, 90, 120, 150, 1000]\n",
    "x = 0\n",
    "while x < (len(days) - 1):\n",
    "    print(f'Number of cancellations between {days[x]} and {days[x+1]}:', \n",
    "          (hotel_cancellations.loc[(hotel_cancellations.rebook_time >= days[x]) &\n",
    "                                  (hotel_cancellations.rebook_time < days[x+1])].shape[0]))\n",
    "    values.append(hotel_cancellations.loc[(hotel_cancellations.rebook_time >= days[x]) & \n",
    "                                          (hotel_cancellations.rebook_time < days[x+1])].shape[0])\n",
    "    x = x + 1"
   ]
  },
  {
   "cell_type": "markdown",
   "id": "5fc8acd4",
   "metadata": {},
   "source": [
    "> This indicates a large portion of cancellations (over 1/3) occur within 30 days of the arrival date. Over half of the cancellations took place between 0 and 60 days prior to arrival date. This leaves very little time to rebook. "
   ]
  },
  {
   "cell_type": "code",
   "execution_count": null,
   "id": "28e8252b",
   "metadata": {},
   "outputs": [],
   "source": [
    "hotel_cancellations.loc[(hotel_cancellations.rebook_time > 30) & (hotel_cancellations.rebook_time <= 45)].shape[0]"
   ]
  },
  {
   "cell_type": "code",
   "execution_count": null,
   "id": "291883c2",
   "metadata": {},
   "outputs": [],
   "source": [
    "hotel_cancellations.shape"
   ]
  },
  {
   "cell_type": "code",
   "execution_count": null,
   "id": "e315d7db",
   "metadata": {
    "scrolled": true
   },
   "outputs": [],
   "source": [
    "hotel_cancellations[['arrival_date', 'rebook_time', 'lead_time']].query('rebook_time <= 30' and 'lead_time <= 30')"
   ]
  },
  {
   "cell_type": "code",
   "execution_count": null,
   "id": "53b1a63c",
   "metadata": {
    "scrolled": true
   },
   "outputs": [],
   "source": [
    "hotel_cancellations[['arrival_date', 'rebook_time', 'lead_time']].query('lead_time <= 60')"
   ]
  },
  {
   "cell_type": "code",
   "execution_count": 178,
   "id": "961b81ec",
   "metadata": {},
   "outputs": [],
   "source": [
    "# convert number of cancellations to percentage of total cancellations\n",
    "values_perc = [x / hotel_cancellations.shape[0] for x in values]"
   ]
  },
  {
   "cell_type": "code",
   "execution_count": 179,
   "id": "7ad3743c",
   "metadata": {},
   "outputs": [
    {
     "data": {
      "image/png": "[encoded data removed]",
      "text/plain": [
       "<Figure size 864x648 with 1 Axes>"
      ]
     },
     "metadata": {
      "needs_background": "light"
     },
     "output_type": "display_data"
    }
   ],
   "source": [
    "fig = plt.figure(figsize = (12,9))\n",
    "plt.title(\"Number of Cancellations vs. Days to Rebook\", fontsize = 16)\n",
    "plt.bar(np.arange(7), values, color='#2A89B4', label=\"Number of cancellations\")\n",
    "\n",
    "plt.xticks(np.arange(7), ['Less than 30', '30-45', '45-60', '60-90', '90-120', '120-150', 'Over 150'], fontsize=12)\n",
    "plt.ylabel(\"# of Cancellations\", fontsize = 15)\n",
    "plt.xlabel(\"Days to Rebook\", fontsize = 15)\n",
    "\n",
    "plt.legend(loc = 'upper center')\n",
    "plt.tight_layout()\n",
    "plt.show()"
   ]
  },
  {
   "cell_type": "markdown",
   "id": "8ecf8102",
   "metadata": {},
   "source": [
    "> This can be made more informative by denoting what portion of overall cancellations each rebooking window represents and possibly the cumulative portion as well."
   ]
  },
  {
   "cell_type": "code",
   "execution_count": 180,
   "id": "0e8cb4f4",
   "metadata": {},
   "outputs": [
    {
     "data": {
      "text/plain": [
       "[34.98100578871201,\n",
       " 10.421942836468885,\n",
       " 7.83058972503618,\n",
       " 11.380698263386396,\n",
       " 8.384587554269176,\n",
       " 6.718071635311143,\n",
       " 20.28310419681621]"
      ]
     },
     "execution_count": 180,
     "metadata": {},
     "output_type": "execute_result"
    }
   ],
   "source": [
    "[x*100 for x in values_perc]"
   ]
  },
  {
   "cell_type": "code",
   "execution_count": 181,
   "id": "3da2bfbf",
   "metadata": {},
   "outputs": [
    {
     "data": {
      "image/png": "[encoded data removed]",
      "text/plain": [
       "<Figure size 864x648 with 1 Axes>"
      ]
     },
     "metadata": {
      "needs_background": "light"
     },
     "output_type": "display_data"
    }
   ],
   "source": [
    "fig = plt.figure(figsize = (12,9))\n",
    "plt.title(\"% of Cancellations vs. Days to Rebook\", fontsize = 16)\n",
    "width = .45\n",
    "p1 = plt.bar(np.arange(7), [x*100 for x in values_perc], -width, align='edge', color='#AEB42A', label='% of Cancellations')\n",
    "p2 = plt.bar(np.arange(7), [x*100 for x in np.cumsum(values_perc)], +width, align=\"edge\", color = '#0F889A', \\\n",
    "          label = \"Cumulative % Cancellations\")\n",
    "\n",
    "plt.xticks(np.arange(7), ['Less than 30', '30-45', '45-60', '60-90', '90-120', '120-150', 'Over 150'], fontsize=12)\n",
    "plt.yticks(np.arange(0,100,10))\n",
    "plt.ylabel(\"% of Cancellations\", fontsize = 15)\n",
    "plt.xlabel(\"Days to Rebook\", fontsize = 15)\n",
    "plt.bar_label(p2, fmt='%.1f', fontsize=12)\n",
    "\n",
    "plt.legend(loc='upper left', fontsize=12)\n",
    "plt.tight_layout()\n",
    "plt.show()"
   ]
  },
  {
   "cell_type": "markdown",
   "id": "af26812d",
   "metadata": {},
   "source": [
    "> This shows us when the majority of cancellations occur. It leads to the idea of 'good' cancellations as opposed to 'bad' cancellations. 'Good' cancellations occur before 60 days before arrival date whereas 'bad' cancellations occur withing that 60 day window. These are 'bad' because of the problematic nature of rebooking they create. Less time to rebook means less chance those rooms will end up occupied. "
   ]
  },
  {
   "cell_type": "code",
   "execution_count": null,
   "id": "fb3d664d",
   "metadata": {},
   "outputs": [],
   "source": []
  }
 ],
 "metadata": {
  "kernelspec": {
   "display_name": "Python 3 (ipykernel)",
   "language": "python",
   "name": "python3"
  },
  "language_info": {
   "codemirror_mode": {
    "name": "ipython",
    "version": 3
   },
   "file_extension": ".py",
   "mimetype": "text/x-python",
   "name": "python",
   "nbconvert_exporter": "python",
   "pygments_lexer": "ipython3",
   "version": "3.9.7"
  }
 },
 "nbformat": 4,
 "nbformat_minor": 5
}
